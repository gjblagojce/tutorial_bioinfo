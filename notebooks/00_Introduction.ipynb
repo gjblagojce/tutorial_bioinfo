{
 "cells": [
  {
   "metadata": {},
   "cell_type": "markdown",
   "source": "# Python Bioinformatics Notebook",
   "id": "f4955991"
  },
  {
   "metadata": {},
   "cell_type": "markdown",
   "source": [
    "Biopython is an open-source collection of tools for biological computation written in Python. It is designed to facilitate the development of bioinformatics applications by providing modules for reading and writing biological file formats (like FASTA, GenBank), handling sequences, accessing online databases (such as NCBI), performing sequence alignments, and much more.\n",
    "\n",
    "Whether you're a researcher, student, or developer, Biopython allows you to automate repetitive tasks, analyze biological data, and integrate computational tools into your workflows. Its intuitive interface makes it a great starting point for those new to programming or bioinformatics.\n",
    "\n",
    "To install Biopython, simply run this bash command:"
   ],
   "id": "4fb2e1eb4d6b945c"
  },
  {
   "metadata": {},
   "cell_type": "code",
   "outputs": [],
   "execution_count": null,
   "source": "pip install biopython",
   "id": "769957dcfe7d4a8e"
  },
  {
   "metadata": {},
   "cell_type": "markdown",
   "source": "## Check environment",
   "id": "ba5f96f1"
  },
  {
   "metadata": {},
   "cell_type": "code",
   "outputs": [],
   "execution_count": null,
   "source": [
    "import Bio\n",
    "import skbio\n",
    "import numpy\n",
    "import pandas\n",
    "import matplotlib\n",
    "import vcfpy\n",
    "\n",
    "print(\"All Python packages successfully installed.\")"
   ],
   "id": "7565dae885a91681"
  },
  {
   "metadata": {},
   "cell_type": "markdown",
   "source": "## Core Bioinformatics Functions (Central Dogma)",
   "id": "2f11e440f6e70622"
  },
  {
   "metadata": {},
   "cell_type": "code",
   "outputs": [],
   "execution_count": null,
   "source": [
    "from Bio.Seq import Seq\n",
    "\n",
    "sequence = Seq(\"ATGGCGTACGCTAGCTAGCTA\")\n",
    "print(\"Original:\", sequence)\n",
    "print(\"Complement:\", sequence.complement())\n",
    "print(\"Reverse Complement:\", sequence.reverse_complement())\n",
    "print(\"Translated Protein:\", sequence.translate())\n"
   ],
   "id": "e8c169fe37912964"
  },
  {
   "metadata": {},
   "cell_type": "markdown",
   "source": [
    "### ✔️ If all outputs above look correct, congratulations! Your environment is ready.\n",
    "\n",
    "In the next notebook, we’ll start working with real biological data like FASTA files and annotations."
   ],
   "id": "55f30cb19c754145"
  }
 ],
 "metadata": {},
 "nbformat": 4,
 "nbformat_minor": 5
}
