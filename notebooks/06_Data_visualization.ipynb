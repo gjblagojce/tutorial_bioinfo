{
 "cells": [
  {
   "metadata": {},
   "cell_type": "markdown",
   "source": [
    "# 📊 Bioinformatics Data Visualization\n",
    "\n",
    "In this notebook, we'll demonstrate how to visualize different types of bioinformatics data:\n",
    "- Sequence-level properties like length and GC content\n",
    "- Simulated gene expression with a volcano plot\n",
    "- 3D molecular structures using `py3Dmol`\n",
    "\n",
    "We'll use real bacterial data and a known protein structure from the Protein Data Bank (PDB)."
   ],
   "id": "a5537087a21c42f0"
  },
  {
   "metadata": {},
   "cell_type": "markdown",
   "source": "## 1️⃣ Sequence Feature Visualization",
   "id": "9ab4e1682d876015"
  },
  {
   "metadata": {},
   "cell_type": "markdown",
   "source": [
    "### 📥 Download E. coli CDS Sequences\n",
    "We’ll fetch coding sequences from NCBI for visualization."
   ],
   "id": "73d30d40d0f51604"
  },
  {
   "metadata": {
    "trusted": false
   },
   "cell_type": "code",
   "outputs": [],
   "execution_count": null,
   "source": [
    "import urllib.request\n",
    "url = \"https://ftp.ncbi.nlm.nih.gov/genomes/all/GCF/000/005/845/GCF_000005845.2_ASM584v2/GCF_000005845.2_ASM584v2_cds_from_genomic.fna.gz\"\n",
    "urllib.request.urlretrieve(url, \"ecoli_cds.fna.gz\")\n",
    "print(\"✅ Downloaded E. coli CDS FASTA\")"
   ],
   "id": "8f51008538ae25eb"
  },
  {
   "metadata": {},
   "cell_type": "markdown",
   "source": [
    "### 📊 Calculate Sequence Lengths and GC Content\n",
    "Let’s parse the FASTA file and compute basic stats."
   ],
   "id": "5c580267fe9d92d8"
  },
  {
   "metadata": {
    "trusted": false
   },
   "cell_type": "code",
   "outputs": [],
   "execution_count": null,
   "source": [
    "from Bio import SeqIO\n",
    "from Bio.SeqUtils import gc_fraction\n",
    "import gzip\n",
    "\n",
    "seq_lengths = []\n",
    "gc_contents = []\n",
    "\n",
    "with gzip.open(\"ecoli_cds.fna.gz\", \"rt\") as handle:\n",
    "    for record in SeqIO.parse(handle, \"fasta\"):\n",
    "        seq_lengths.append(len(record.seq))\n",
    "        gc_contents.append(gc_fraction(record.seq) * 100)\n",
    "\n",
    "print(f\"Parsed {len(seq_lengths)} sequences.\")"
   ],
   "id": "c1b54b3e500c452e"
  },
  {
   "metadata": {},
   "cell_type": "markdown",
   "source": [
    "### 📈 Plot: Length Distribution\n",
    "Histogram of sequence lengths."
   ],
   "id": "e259d14059374d25"
  },
  {
   "metadata": {
    "trusted": false
   },
   "cell_type": "code",
   "outputs": [],
   "execution_count": null,
   "source": [
    "import matplotlib.pyplot as plt\n",
    "plt.hist(seq_lengths, bins=50, color='lightblue')\n",
    "plt.title(\"CDS Length Distribution\")\n",
    "plt.xlabel(\"Length (bp)\")\n",
    "plt.ylabel(\"Frequency\")\n",
    "plt.show()"
   ],
   "id": "a2e0e997caba465a"
  },
  {
   "metadata": {},
   "cell_type": "markdown",
   "source": [
    "### 🌐 Plot: GC Content vs Length\n",
    "Explore how GC% varies with sequence length."
   ],
   "id": "95bb085a7b2728e4"
  },
  {
   "metadata": {
    "trusted": false
   },
   "cell_type": "code",
   "outputs": [],
   "execution_count": null,
   "source": [
    "plt.scatter(seq_lengths, gc_contents, alpha=0.5)\n",
    "plt.title(\"GC Content vs CDS Length\")\n",
    "plt.xlabel(\"Length (bp)\")\n",
    "plt.ylabel(\"GC Content (%)\")\n",
    "plt.show()"
   ],
   "id": "a732b8b96db16cf8"
  },
  {
   "metadata": {},
   "cell_type": "markdown",
   "source": "## 2️⃣ Gene Expression Volcano Plot (Simulated)",
   "id": "bdbfb0661d3b9ff1"
  },
  {
   "metadata": {},
   "cell_type": "markdown",
   "source": [
    "### 🧪 Simulate Expression Data for Volcano Plot\n",
    "Create a mock expression dataset to visualize differential expression."
   ],
   "id": "2aeaec37e4873c9"
  },
  {
   "metadata": {
    "trusted": false
   },
   "cell_type": "code",
   "outputs": [],
   "execution_count": null,
   "source": [
    "import pandas as pd\n",
    "import numpy as np\n",
    "import plotly.express as px\n",
    "\n",
    "np.random.seed(42)\n",
    "df = pd.DataFrame({\n",
    "    'log2FC': np.random.normal(0, 2, 500),\n",
    "    'pval': np.random.uniform(0, 1, 500)\n",
    "})\n",
    "df['-log10(pval)'] = -np.log10(df['pval'])\n",
    "df['Significant'] = (abs(df['log2FC']) > 1) & (df['pval'] < 0.05)"
   ],
   "id": "89c955e79b4515da"
  },
  {
   "metadata": {},
   "cell_type": "markdown",
   "source": [
    "### 🌋 Plot: Simulated Volcano Plot\n",
    "A scatter plot showing significance and fold change."
   ],
   "id": "ab917760699a2fbd"
  },
  {
   "metadata": {
    "trusted": false
   },
   "cell_type": "code",
   "outputs": [],
   "execution_count": null,
   "source": [
    "fig = px.scatter(df, x='log2FC', y='-log10(pval)', color='Significant', title=\"Simulated Volcano Plot\")\n",
    "fig.show()"
   ],
   "id": "15082dd840f84870"
  },
  {
   "metadata": {},
   "cell_type": "markdown",
   "source": "## 3️⃣ Protein Structure: 3D Visualization with `py3Dmol`",
   "id": "14a667d07a546adf"
  },
  {
   "metadata": {},
   "cell_type": "markdown",
   "source": [
    "### 📦 Download Hemoglobin Protein Structure (1A3N)\n",
    "We’ll use this for 3D molecular visualization."
   ],
   "id": "6824e31c70f2fa24"
  },
  {
   "metadata": {
    "trusted": false
   },
   "cell_type": "code",
   "outputs": [],
   "execution_count": null,
   "source": [
    "import urllib.request\n",
    "url = \"https://files.rcsb.org/download/1A3N.pdb\"\n",
    "urllib.request.urlretrieve(url, \"1A3N.pdb\")\n",
    "print(\"✅ Downloaded 1A3N.pdb\")"
   ],
   "id": "9f46f1e997becec9"
  },
  {
   "metadata": {
    "trusted": false
   },
   "cell_type": "code",
   "outputs": [],
   "execution_count": null,
   "source": [
    "import warnings\n",
    "from Bio import BiopythonWarning\n",
    "from Bio.PDB import PDBParser\n",
    "\n",
    "# Suppress Biopython warnings\n",
    "warnings.simplefilter('ignore', BiopythonWarning)\n",
    "\n",
    "# Load and parse the structure\n",
    "parser = PDBParser()\n",
    "structure = parser.get_structure(\"Hemoglobin\", \"1A3N.pdb\")\n",
    "\n",
    "# Print chain IDs\n",
    "print(\"Chains in structure:\")\n",
    "for model in structure:\n",
    "    for chain in model:\n",
    "        print(\" - Chain ID:\", chain.id)"
   ],
   "id": "3e674bfe5836e956"
  },
  {
   "metadata": {},
   "cell_type": "markdown",
   "source": [
    "### 🧬 Interactive 3D Viewer Setup with py3Dmol\n",
    "Let’s visualize the protein in 3D using a cartoon model."
   ],
   "id": "e1a9133bb27abe04"
  },
  {
   "metadata": {
    "trusted": false
   },
   "cell_type": "code",
   "outputs": [],
   "execution_count": null,
   "source": [
    "import py3Dmol\n",
    "\n",
    "view = py3Dmol.view(query='pdb:1A3N')\n",
    "view.setStyle({'cartoon': {'color': 'spectrum'}})\n",
    "view.zoomTo()\n",
    "view.show()"
   ],
   "id": "5a12cdec899d681e"
  },
  {
   "metadata": {},
   "cell_type": "markdown",
   "source": [
    "### 🔬 Tip: Annotating Protein Regions (Optional)\n",
    "To highlight active sites, ligands, or domains, you can add selections like:\n",
    "```python\n",
    "view.addStyle({'chain': 'A', 'resn': 'HEM'}, {'stick': {}})\n",
    "```\n",
    "You can also add labels and spheres to residues for educational demos or reports."
   ],
   "id": "afda676d2481beb4"
  },
  {
   "metadata": {
    "trusted": false
   },
   "cell_type": "code",
   "outputs": [],
   "execution_count": null,
   "source": [
    "import py3Dmol\n",
    "\n",
    "view = py3Dmol.view(query='pdb:1A3N')\n",
    "view.addStyle({'chain': 'A', 'resn': 'HEM'}, {'stick': {}})\n",
    "view.zoomTo()\n",
    "view.show()"
   ],
   "id": "f3fcb80473698a15"
  },
  {
   "metadata": {},
   "cell_type": "markdown",
   "source": [
    "### 🧬 Interactive Protein Viewer with Chain and Style Selection\n",
    "This viewer let you:\n",
    "- Select a chain (A, B, C, or D)\n",
    "- Choose a visual style (cartoon, stick, or surface)"
   ],
   "id": "e1db39c688881599"
  },
  {
   "metadata": {
    "trusted": true
   },
   "cell_type": "code",
   "outputs": [],
   "execution_count": null,
   "source": [
    "import py3Dmol\n",
    "import ipywidgets as widgets\n",
    "from IPython.display import display\n",
    "\n",
    "# Define available options\n",
    "chains = ['A', 'B', 'C', 'D']\n",
    "styles = ['cartoon', 'stick', 'surface']\n",
    "\n",
    "# Create widgets\n",
    "chain_selector = widgets.Dropdown(\n",
    "    options=chains,\n",
    "    value='A',\n",
    "    description='Chain:',\n",
    "    style={'description_width': 'initial'}\n",
    ")\n",
    "\n",
    "style_selector = widgets.Dropdown(\n",
    "    options=styles,\n",
    "    value='cartoon',\n",
    "    description='Style:',\n",
    "    style={'description_width': 'initial'}\n",
    ")\n",
    "\n",
    "# Function to update viewer\n",
    "def update_viewer(chain_id, style):\n",
    "    view = py3Dmol.view(query='pdb:1A3N')\n",
    "    view.setStyle({'cartoon': {'color': 'lightgrey'}})\n",
    "    view.addStyle({'chain': chain_id}, {style: {'color': 'red'}})\n",
    "    view.zoomTo()\n",
    "    view.show()\n",
    "\n",
    "# Display widgets together\n",
    "ui = widgets.HBox([chain_selector, style_selector])\n",
    "out = widgets.interactive_output(update_viewer, {'chain_id': chain_selector, 'style': style_selector})\n",
    "\n",
    "display(ui, out)\n"
   ],
   "id": "d320f8dc77aeb0de"
  }
 ],
 "metadata": {
  "kernelspec": {
   "display_name": "Python 3",
   "language": "python",
   "name": "python3"
  },
  "language_info": {
   "codemirror_mode": {
    "name": "ipython",
    "version": 2
   },
   "file_extension": ".py",
   "mimetype": "text/x-python",
   "name": "python",
   "nbconvert_exporter": "python",
   "pygments_lexer": "ipython2",
   "version": "2.7.6"
  }
 },
 "nbformat": 4,
 "nbformat_minor": 5
}
