{
 "cells": [
  {
   "metadata": {},
   "cell_type": "markdown",
   "source": [
    "### Basic Sequence Handling\n",
    "BioPython provides powerful objects to work with biological sequences. Here, we import multiple modules to create and manipulate DNA, RNA, or protein sequences."
   ],
   "id": "31b1c7923ff7cd15"
  },
  {
   "metadata": {},
   "cell_type": "markdown",
   "source": [
    "#### 🧬 Creating and Inspecting a DNA Sequence\n",
    "We start by creating a DNA sequence using Biopython's `Seq` object and printing basic information."
   ],
   "id": "a2fef92a794d6d3e"
  },
  {
   "metadata": {
    "trusted": true
   },
   "cell_type": "code",
   "outputs": [],
   "execution_count": 1,
   "source": [
    "from Bio.Seq import Seq\n",
    "from Bio.SeqUtils import gc_fraction, nt_search, molecular_weight, lcc, MeltingTemp as mt\n",
    "from Bio.Data import CodonTable\n",
    "from skbio import DNA\n",
    "from skbio.alignment import global_pairwise_align_nucleotide\n",
    "from collections import Counter\n"
   ],
   "id": "91e328e19e6ec7f7"
  },
  {
   "metadata": {},
   "cell_type": "markdown",
   "source": [
    "#### 🔁 Complement and Reverse Complement\n",
    "You can generate the complement or reverse complement of a DNA strand with simple methods."
   ],
   "id": "619b074faa84fce0"
  },
  {
   "metadata": {
    "trusted": true
   },
   "cell_type": "code",
   "outputs": [
    {
     "name": "stdout",
     "output_type": "stream",
     "text": []
    }
   ],
   "execution_count": 2,
   "source": [
    "seq = Seq(\"ATGGCCATTGTAATGGGCCGCTGAAAGGGTGCCCGATAG\")\n",
    "print(\"Original:\", seq)\n",
    "print(\"Complement:\", seq.complement())\n",
    "print(\"Reverse:\", seq[::-1])\n",
    "print(\"Reverse Complement:\", seq.reverse_complement())\n",
    "print(\"Sequence length:\", len(seq))"
   ],
   "id": "d3823563fe9e05d9"
  },
  {
   "metadata": {},
   "cell_type": "markdown",
   "source": "#### 🔠 Counting Nucleotides",
   "id": "ba28df843101224a"
  },
  {
   "metadata": {
    "trusted": true
   },
   "cell_type": "code",
   "outputs": [
    {
     "name": "stdout",
     "output_type": "stream",
     "text": []
    }
   ],
   "execution_count": 3,
   "source": [
    "counts = Counter(seq)\n",
    "print(\"Nucleotide counts:\", dict(counts))"
   ],
   "id": "d0fc957764a8a25b"
  },
  {
   "metadata": {},
   "cell_type": "markdown",
   "source": [
    "#### 🔄 Transcription and Translation\n",
    "Simulate biological transcription (DNA → RNA) and translation (RNA → Protein) using built-in methods."
   ],
   "id": "370839a9995e2618"
  },
  {
   "metadata": {
    "trusted": true
   },
   "cell_type": "code",
   "outputs": [
    {
     "name": "stdout",
     "output_type": "stream",
     "text": []
    }
   ],
   "execution_count": 4,
   "source": [
    "rna = seq.transcribe()\n",
    "print(\"Transcription:\", rna)\n",
    "protein = seq.translate()\n",
    "print(\"Translation:\", protein)\n",
    "dna = rna.back_transcribe()\n",
    "print(\"Back-transcribed DNA:\", dna)"
   ],
   "id": "25c9fedc1ba1e658"
  },
  {
   "metadata": {},
   "cell_type": "markdown",
   "source": "#### 🔢 GC Content Calculation",
   "id": "e463176a19b072f6"
  },
  {
   "metadata": {
    "trusted": true
   },
   "cell_type": "code",
   "outputs": [
    {
     "name": "stdout",
     "output_type": "stream",
     "text": []
    }
   ],
   "execution_count": 5,
   "source": [
    "gc = gc_fraction(seq) * 100\n",
    "print(f\"GC content: {gc:.2f}%\")"
   ],
   "id": "63c5d58425d9b8a"
  },
  {
   "metadata": {},
   "cell_type": "markdown",
   "source": [
    "#### 🌡️ Calculating Melting Temperature (Tm)\n",
    "Estimate the melting temperature of a DNA primer using the `MeltingTemp` module."
   ],
   "id": "ffd81b1e94bbf4d8"
  },
  {
   "metadata": {
    "trusted": true
   },
   "cell_type": "code",
   "outputs": [
    {
     "name": "stdout",
     "output_type": "stream",
     "text": []
    }
   ],
   "execution_count": 6,
   "source": [
    "print(\"Melting temperature (Wallace rule):\", mt.Tm_Wallace(seq))\n",
    "print(\"Nearest-neighbor Tm:\", mt.Tm_NN(seq))"
   ],
   "id": "2258da1dbbeb705"
  },
  {
   "metadata": {},
   "cell_type": "markdown",
   "source": [
    "#### 🔬 Molecular Weight\n",
    "Calculate molecular weight of DNA, RNA, or protein."
   ],
   "id": "64663b6d24406515"
  },
  {
   "metadata": {
    "trusted": true
   },
   "cell_type": "code",
   "outputs": [
    {
     "name": "stdout",
     "output_type": "stream",
     "text": []
    }
   ],
   "execution_count": 7,
   "source": [
    "mw_dna = molecular_weight(seq, seq_type=\"DNA\")\n",
    "mw_rna = molecular_weight(seq.transcribe(), seq_type=\"RNA\")\n",
    "mw_protein = molecular_weight(seq, seq_type=\"protein\")\n",
    "print(\"Molecular Weight (DNA): {:.2f}\".format(mw_dna))\n",
    "print(\"Molecular Weight (DNA): {:.2f}\".format(mw_rna))\n",
    "print(\"Molecular Weight (DNA): {:.2f}\".format(mw_protein))"
   ],
   "id": "f5309a9d747211bb"
  },
  {
   "metadata": {},
   "cell_type": "markdown",
   "source": [
    "#### 🧬 Codon Table & Stop Codons\n",
    "Inspect the genetic code table to identify stop codons and understand codon usage."
   ],
   "id": "8f6c6415c5b1b39f"
  },
  {
   "metadata": {
    "trusted": true
   },
   "cell_type": "code",
   "outputs": [
    {
     "name": "stdout",
     "output_type": "stream",
     "text": []
    }
   ],
   "execution_count": 8,
   "source": [
    "standard_table = CodonTable.unambiguous_dna_by_name[\"Standard\"]\n",
    "print(\"Start codons:\", standard_table.start_codons)\n",
    "print(\"Stop codons:\", standard_table.stop_codons)\n",
    "\n",
    "protein = seq.translate()\n",
    "print(\"Translated Protein:\", protein)\n",
    "\n",
    "protein_stop = seq.translate(to_stop=True)\n",
    "print(\"Translated Protein (to stop codon):\", protein_stop)\n"
   ],
   "id": "2fcb0034aca834dc"
  },
  {
   "metadata": {},
   "cell_type": "markdown",
   "source": [
    "#### 🔍 Motif Search\n",
    "Inspect the genetic code table to identify stop codons and understand codon usage."
   ],
   "id": "3178f50348e6f0cb"
  },
  {
   "metadata": {
    "trusted": true
   },
   "cell_type": "code",
   "outputs": [
    {
     "name": "stdout",
     "output_type": "stream",
     "text": []
    }
   ],
   "execution_count": 9,
   "source": [
    "motif = \"ATGG\"\n",
    "results = nt_search(str(seq), motif)\n",
    "print(\"Motif '{}'' found at positions:\".format(motif), results[1:])"
   ],
   "id": "a18783d349085b82"
  },
  {
   "metadata": {},
   "cell_type": "markdown",
   "source": [
    "#### 🧪 Local Composition Complexity\n",
    "Measures sequence complexity (like Shannon entropy)."
   ],
   "id": "1c5c4dd6c9457f7b"
  },
  {
   "metadata": {
    "trusted": true
   },
   "cell_type": "code",
   "outputs": [
    {
     "name": "stdout",
     "output_type": "stream",
     "text": []
    }
   ],
   "execution_count": 10,
   "source": "print(\"Sequence complexity (LCC):\", lcc.lcc_simp(seq))",
   "id": "395fd6087527cae8"
  }
 ],
 "metadata": {},
 "nbformat": 4,
 "nbformat_minor": 5
}
