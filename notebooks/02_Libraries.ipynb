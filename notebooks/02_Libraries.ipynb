{
 "cells": [
  {
   "metadata": {},
   "cell_type": "markdown",
   "source": "## Bioinformatics Libraries",
   "id": "3be763c1"
  },
  {
   "metadata": {},
   "cell_type": "markdown",
   "source": "### Biopython",
   "id": "71599eee57584508"
  },
  {
   "metadata": {},
   "cell_type": "markdown",
   "source": [
    "#### Example A: Parsing FASTA files & computing GC content\n",
    "- Purpose: Load sequence data from FASTA files and analyze."
   ],
   "id": "3aba880c60cee5ac"
  },
  {
   "metadata": {
    "jupyter": {
     "is_executing": true
    }
   },
   "cell_type": "code",
   "source": [
    "from Bio import SeqIO\n",
    "from Bio.SeqUtils import gc_fraction\n",
    "\n",
    "for record in SeqIO.parse(\"../data/fasta_example.fasta\", \"fasta\"):\n",
    "    gc_content = gc_fraction(record.seq) * 100\n",
    "    print(f\"{record.id}: {gc_content:.2f}% GC\")\n"
   ],
   "id": "22bcef0dfdddff3c",
   "outputs": [],
   "execution_count": null
  },
  {
   "metadata": {},
   "cell_type": "code",
   "outputs": [],
   "execution_count": null,
   "source": [
    "# have bam, convert it to bam\n",
    "import pysam\n",
    "bamfile = pysam.AlignmentFile(\"../data/bam_example.bam\", \"rb\")\n",
    "for read in bamfile.fetch(\"chr1\", 1000, 2000):\n",
    "    print(read.query_name, read.query_sequence)"
   ],
   "id": "f25ea03a9d000fb3"
  },
  {
   "metadata": {},
   "cell_type": "code",
   "outputs": [],
   "execution_count": null,
   "source": [
    "\n",
    "import vcfpy\n",
    "\n",
    "reader = vcfpy.Reader.from_path(\"../data/vcf_example.vcf\")\n",
    "for record in reader:\n",
    "    alt_alleles = [alt.value for alt in record.ALT]  # extract alt allele strings\n",
    "    print(record.CHROM, record.POS, record.REF, alt_alleles)\n"
   ],
   "id": "b7615c9b2b4300bf"
  },
  {
   "metadata": {},
   "cell_type": "markdown",
   "source": [
    "### Basic Sequence Handling\n",
    "BioPython provides powerful objects to work with biological sequences. Here, we import multiple modules to create and manipulate DNA, RNA, or protein sequences."
   ],
   "id": "6a73b2f97fa322c4"
  },
  {
   "metadata": {},
   "cell_type": "code",
   "outputs": [],
   "execution_count": null,
   "source": [
    "from Bio.Seq import Seq\n",
    "from Bio.SeqUtils import MeltingTemp as mt\n",
    "from Bio.Data import CodonTable\n",
    "from skbio import DNA\n",
    "from skbio.alignment import global_pairwise_align_nucleotide\n",
    "\n",
    "print(\"### Biopython Sequence Basics\")\n",
    "# Define DNA sequence\n",
    "seq = Seq(\"ATGGCCATTGTAATGGGCCGCTGAAAGGGTGCCCGATAG\")\n",
    "print(\"Original:\", seq)\n",
    "print(\"Complement:\", seq.complement())\n",
    "print(\"Reverse:\", seq[::-1])\n",
    "print(\"Reverse Complement:\", seq.reverse_complement())\n",
    "print(\"Transcription:\", seq.transcribe())\n",
    "print(\"Translation:\", seq.translate())\n",
    "\n",
    "print(\"\\n### scikit-bio Sequence Analysis\")\n",
    "sequence = DNA(\"ATGCGTAGCTAG\")\n",
    "print(\"GC content:\", sequence.gc_content())\n",
    "print(\"Nucleotide frequencies (1-mers):\", sequence.kmer_frequencies(k=1))\n",
    "print(\"3-mers:\", sequence.kmer_frequencies(k=3))\n",
    "\n",
    "print(\"\\n### Biopython Codon Table\")\n",
    "standard_table = CodonTable.unambiguous_dna_by_name[\"Standard\"]\n",
    "print(\"Start codons:\", standard_table.start_codons)\n",
    "print(\"Stop codons:\", standard_table.stop_codons)\n",
    "\n",
    "print(\"\\n### Biopython Motif Search\")\n",
    "motif = \"TATA\"\n",
    "seq2 = Seq(\"TATAAGCGTATAAATAGCGGTATA\")\n",
    "positions = [i for i in range(len(seq2)) if seq2[i:i+len(motif)] == motif]\n",
    "print(f\"Motif '{motif}' found at positions:\", positions)\n",
    "\n",
    "print(\"\\n### Biopython Melting Temperature\")\n",
    "dna_seq = \"ATCGATCGATCG\"\n",
    "print(\"Melting temperature (Wallace rule):\", mt.Tm_Wallace(dna_seq))\n",
    "\n",
    "print(\"\\n### scikit-bio Sequence Alignment\")\n",
    "seq1 = DNA(\"ACGTA\")\n",
    "seq2 = DNA(\"ACCTA\")\n",
    "alignment, score, _ = global_pairwise_align_nucleotide(seq1, seq2)\n",
    "print(\"Alignment score:\", score)\n",
    "print(alignment)"
   ],
   "id": "81fa477cddc5f0e2"
  },
  {
   "metadata": {},
   "cell_type": "markdown",
   "source": "### scikit-bio",
   "id": "2fb905dfed51bdca"
  },
  {
   "metadata": {},
   "cell_type": "markdown",
   "source": [
    "#### Example: Pairwise Sequence Alignment\n",
    "- Purpose: Align two sequences to identify similarities."
   ],
   "id": "b3bcaaa1beeeef38"
  },
  {
   "metadata": {},
   "cell_type": "code",
   "outputs": [],
   "execution_count": null,
   "source": [
    "\n",
    "from skbio import DNA, read\n",
    "from skbio.alignment import local_pairwise_align_ssw\n",
    "\n",
    "# Read two sequences from the FASTA file\n",
    "sequences = list(read(\"../data/fasta_example.fasta\", format=\"fasta\", constructor=DNA))\n",
    "\n",
    "# Assign the sequences\n",
    "seq1 = sequences[0]\n",
    "seq2 = sequences[1]\n",
    "\n",
    "# Run alignment\n",
    "alignment, score, _ = local_pairwise_align_ssw(seq1, seq2)\n",
    "\n",
    "# Output\n",
    "print(\"Alignment Score:\", score)\n",
    "print(alignment)\n"
   ],
   "id": "dce940f159ecc8f2"
  },
  {
   "metadata": {},
   "cell_type": "markdown",
   "source": "### vcfpy",
   "id": "4fa77df076645c49"
  },
  {
   "metadata": {},
   "cell_type": "markdown",
   "source": [
    "#### Example: Parsing and filtering VCF files\n",
    "- Purpose: Handle and filter genomic variant data."
   ],
   "id": "8b0d5966c93c8267"
  },
  {
   "metadata": {},
   "cell_type": "code",
   "source": [
    "\n",
    "import vcfpy\n",
    "\n",
    "# Open the VCF file using vcfpy\n",
    "reader = vcfpy.Reader.from_path(\"../data/vcf_example.vcf\")\n",
    "\n",
    "# Loop through records and filter by QUAL > 40\n",
    "for record in reader:\n",
    "    if record.QUAL is not None and record.QUAL > 40:\n",
    "        alt_alleles = \",\".join(alt.value for alt in record.ALT)\n",
    "        print(f\"{record.CHROM}:{record.POS} {record.REF}->{alt_alleles} QUAL:{record.QUAL}\")\n"
   ],
   "id": "a5acdd60",
   "outputs": [],
   "execution_count": null
  }
 ],
 "metadata": {},
 "nbformat": 4,
 "nbformat_minor": 5
}
