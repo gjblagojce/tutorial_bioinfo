{
 "cells": [
  {
   "metadata": {},
   "cell_type": "markdown",
   "source": [
    "## Bioinformatics Data Formats\n",
    "\n",
    "In bioinformatics, data comes in specialized file formats designed to handle biological sequences, annotations, genomic alignments, variant information, and gene expression data. All the file examples can be found in `data` folder. BioPython's `SeqIO` module is used to read and write files in different formats like FASTA, GenBank, etc. Here are the most important formats:\n",
    "\n"
   ],
   "id": "fb315aad2f905f1c"
  },
  {
   "metadata": {},
   "cell_type": "markdown",
   "source": "- **FASTA Format**: Stores nucleotide or protein sequences",
   "id": "95a62e0e40ebaeb"
  },
  {
   "metadata": {},
   "cell_type": "code",
   "outputs": [],
   "execution_count": null,
   "source": [
    ">sequence_1\n",
    "ATGGCGTACGCTAGCTAGCTA\n",
    ">sequence_2\n",
    "ATGCTAGCTAGCTAGTGACTG\n",
    ">sequence_3\n",
    "AGTAGACTGGTGCTAGCTAGT"
   ],
   "id": "561d15681542531e"
  },
  {
   "metadata": {
    "jupyter": {
     "is_executing": true
    }
   },
   "cell_type": "code",
   "source": [
    "#count of sequences\n",
    "from Bio import SeqIO\n",
    "for record in SeqIO.parse(\"../data/fasta_example.fasta\", \"fasta\"):\n",
    "    print(record.id, record.seq)\n"
   ],
   "id": "564ec3a2",
   "outputs": [],
   "execution_count": null
  },
  {
   "metadata": {},
   "cell_type": "markdown",
   "source": "- **FASTQ Format**: Stores sequencing reads and their quality scores from sequencing machines.\n",
   "id": "5e4c05b969682f81"
  },
  {
   "metadata": {},
   "cell_type": "code",
   "outputs": [],
   "execution_count": null,
   "source": [
    "@SEQ_ID_1\n",
    "GATCTGACTGACTG\n",
    "+\n",
    "IIIIIIIIIIIIIH\n",
    "@SEQ_ID_2\n",
    "ATCGATCGTAGCTA\n",
    "+\n",
    "IIIIIIIHHHHHHG"
   ],
   "id": "1296e7f50b2edd2c"
  },
  {
   "metadata": {
    "jupyter": {
     "is_executing": true
    }
   },
   "cell_type": "code",
   "source": [
    "\n",
    "from Bio import SeqIO\n",
    "for record in SeqIO.parse(\"../data/fastq_example.fastq\", \"fastq\"):\n",
    "    print(record.id, record.seq, record.letter_annotations[\"phred_quality\"])\n"
   ],
   "id": "8a8a30cf",
   "outputs": [],
   "execution_count": null
  },
  {
   "metadata": {},
   "cell_type": "markdown",
   "source": "- **GenBank Format**: Stores sequences and their annotations, such as gene locations and organism information.",
   "id": "b93293ebe4d39acd"
  },
  {
   "metadata": {},
   "cell_type": "code",
   "outputs": [],
   "execution_count": null,
   "source": [
    "LOCUS       SCU49845     25 bp    DNA             PLN       21-JUN-1999\n",
    "DEFINITION  Example GenBank entry.\n",
    "ACCESSION   SCU49845\n",
    "VERSION     SCU49845.1\n",
    "KEYWORDS    .\n",
    "SOURCE      Artificial Sequence\n",
    "  ORGANISM  Artificial Sequence\n",
    "            .\n",
    "FEATURES             Location/Qualifiers\n",
    "     gene            1..10\n",
    "                     /gene=\"example_gene\"\n",
    "ORIGIN\n",
    "        1 atggcgtaaa tagctagcta ctagc\n",
    "//"
   ],
   "id": "15b84cfcada3dac5"
  },
  {
   "metadata": {},
   "cell_type": "code",
   "source": [
    "\n",
    "from Bio import SeqIO\n",
    "record = SeqIO.read(\"../data/gb_example.gb\", \"genbank\")\n",
    "print(record.annotations)\n",
    "for feature in record.features:\n",
    "    print(feature.type, feature.location)\n"
   ],
   "id": "5783f541",
   "outputs": [],
   "execution_count": null
  },
  {
   "metadata": {},
   "cell_type": "markdown",
   "source": "- **GFF/GTF/BED Formats**: Define genomic feature locations, like gene start and end positions.",
   "id": "36822a4c857bc52a"
  },
  {
   "metadata": {},
   "cell_type": "code",
   "outputs": [],
   "execution_count": null,
   "source": [
    "chr1    1000    5000    Gene1\n",
    "chr2    7000    9000    Gene2\n",
    "chr3    10000\t11000    Gene3"
   ],
   "id": "75545af5e79947af"
  },
  {
   "metadata": {},
   "cell_type": "code",
   "outputs": [],
   "execution_count": null,
   "source": [
    "import pandas as pd\n",
    "\n",
    "bed = pd.read_csv(\"../data/bed_example.bed\", sep=\"\\t\", header=None,\n",
    "                  names=[\"chrom\", \"start\", \"end\", \"name\"])\n",
    "print(bed)\n"
   ],
   "id": "4dce0ce209fb9527"
  },
  {
   "metadata": {},
   "cell_type": "markdown",
   "source": "- **SAM/BAM Formats**: Contain alignments of read data to reference genomes, including mapping scores and alignments.",
   "id": "21e4b5784c278cb3"
  },
  {
   "metadata": {},
   "cell_type": "code",
   "outputs": [],
   "execution_count": null,
   "source": [
    "@SQ SN:chr1 LN:10000\n",
    "seq1    0   chr1    1000    255 10M *   0   0   ACGTAGCTAG  *\n",
    "seq2    0   chr1    1020    255 10M *   0   0   ACGTAGCTAC  *"
   ],
   "id": "d0d94f2186be10ab"
  },
  {
   "metadata": {},
   "cell_type": "markdown",
   "source": "In order to create `.bam` file format using the `.sam` file use these two `bash` commands:",
   "id": "c111124a74c37550"
  },
  {
   "metadata": {},
   "cell_type": "code",
   "outputs": [],
   "execution_count": null,
   "source": [
    "!samtools view -S -b ../data/sam_example.sam > ../data/bam_example.bam\n",
    "!samtools index ../data/bam_example.bam"
   ],
   "id": "f65ecc3bfceba6db"
  },
  {
   "metadata": {},
   "cell_type": "code",
   "source": [
    "import pysam\n",
    "bamfile = pysam.AlignmentFile(\"../data/bam_example.bam\", \"rb\")\n",
    "for read in bamfile.fetch(\"chr1\", 1000, 2000):\n",
    "    print(read.query_name, read.query_sequence)"
   ],
   "id": "898fc251160e1b47",
   "outputs": [],
   "execution_count": null
  },
  {
   "metadata": {},
   "cell_type": "markdown",
   "source": "- **VCF Format**: Records genomic variants with reference, alternate alleles, and quality scores.",
   "id": "f260f60ccbab0735"
  },
  {
   "metadata": {},
   "cell_type": "code",
   "outputs": [],
   "execution_count": null,
   "source": [
    "##fileformat=VCFv4.2\n",
    "##source=TutorialExample\n",
    "##FILTER=<ID=q10,Description=\"Quality below 10\">\n",
    "##FILTER=<ID=q20,Description=\"Quality below 20\">\n",
    "##INFO=<ID=DP,Number=1,Type=Integer,Description=\"Total Depth\">\n",
    "#CHROM\tPOS\tID\tREF\tALT\tQUAL\tFILTER\tINFO\n",
    "chr1\t10176\t.\tA\tAC\t50\tPASS\tDP=20\n",
    "chr1\t10352\t.\tT\tTA\t60\tPASS\tDP=25\n",
    "chr1\t10616\t.\tC\tG\t30\tq10\tDP=10\n",
    "chr2\t20100\t.\tG\tA\t70\tPASS\tDP=40\n",
    "chr2\t20250\t.\tT\tC\t20\tq20\tDP=15"
   ],
   "id": "6df5459ca46d0aa9"
  },
  {
   "metadata": {},
   "cell_type": "code",
   "source": [
    "\n",
    "import vcfpy\n",
    "\n",
    "# Open the VCF file\n",
    "reader = vcfpy.Reader.from_path(\"../data/vcf_example.vcf\")\n",
    "\n",
    "# Iterate through records\n",
    "for record in reader:\n",
    "    print(record.CHROM, record.POS, record.REF, [str(alt) for alt in record.ALT])"
   ],
   "id": "85d0a47bac7ee46c",
   "outputs": [],
   "execution_count": null
  },
  {
   "metadata": {},
   "cell_type": "markdown",
   "source": "- **Gene Expression Format**: Stores expression values in matrix format (RNA-seq counts).",
   "id": "29491c4e3fc09e"
  },
  {
   "metadata": {},
   "cell_type": "code",
   "outputs": [],
   "execution_count": null,
   "source": [
    "gene    control_1 control_2 treated_1 treated_2 treated_3\n",
    "gene1   100       110       200       210       190\n",
    "gene2   300       320       400       410       420\n",
    "gene3   500       480       600       590       610\n",
    "gene4   80        85        160       150       170\n",
    "gene5   250       260       300       310       320"
   ],
   "id": "1630626612feb05f"
  },
  {
   "metadata": {
    "jupyter": {
     "is_executing": true
    }
   },
   "cell_type": "code",
   "source": [
    "import pandas as pd\n",
    "expr = pd.read_csv(\"../data/geneexpression_example.txt\", sep=\"\\s+\", index_col=0)\n",
    "print(expr.head())\n",
    "\n",
    "print(\"Mean expression per sample:\")\n",
    "print(expr.mean())\n"
   ],
   "id": "9bc6a86578554b36",
   "outputs": [],
   "execution_count": null
  }
 ],
 "metadata": {},
 "nbformat": 4,
 "nbformat_minor": 5
}
