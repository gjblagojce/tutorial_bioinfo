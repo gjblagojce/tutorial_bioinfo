{
 "metadata": {
  "kernelspec": {
   "display_name": "Python 3 (ipykernel)",
   "language": "python",
   "name": "python3"
  },
  "language_info": {
   "codemirror_mode": {
    "name": "ipython",
    "version": 3
   },
   "file_extension": ".py",
   "mimetype": "text/x-python",
   "name": "python",
   "nbconvert_exporter": "python",
   "pygments_lexer": "ipython3",
   "version": "3.10.16"
  }
 },
 "nbformat_minor": 5,
 "nbformat": 4,
 "cells": [
  {
   "id": "fb315aad2f905f1c",
   "cell_type": "markdown",
   "source": [
    "## 🧬 Common Bioinformatics File Formats\n",
    "\n",
    "In bioinformatics, different types of biological data are stored in specialized file formats. These include:\n",
    "\n",
    "- Sequence data (e.g., DNA, RNA, proteins)\n",
    "- Quality scores from sequencing machines\n",
    "- Annotations, features, and metadata\n",
    "\n",
    "In this notebook, you’ll learn how to **identify**, **view**, and **read** several common formats using Biopython's `SeqIO` module.\n",
    "\n",
    "All file examples are stored in the `../data/` folder."
   ],
   "metadata": {}
  },
  {
   "id": "95a62e0e40ebaeb",
   "cell_type": "markdown",
   "source": "### 📘 FASTA Format\n\nFASTA is one of the most common formats for storing nucleotide or protein sequences.\n\nEach record starts with a `>` followed by a sequence ID and optional description, and then one or more lines of sequence.\n\nExample:",
   "metadata": {}
  },
  {
   "id": "e619a156-cdd7-4dac-9ed4-ed803e6f0433",
   "cell_type": "raw",
   "source": ">sequence_1\nATGGCGTACGCTAGCTAGCTA\n>sequence_2\nATGCTAGCTAGCTAGTGACTG\n>sequence_3\nAGTAGACTGGTGCTAGCTAGT",
   "metadata": {}
  },
  {
   "id": "77c4661e",
   "cell_type": "markdown",
   "source": "#### 📥 Reading FASTA in Python\n\nLet’s parse the FASTA file using `Bio.SeqIO` and print each record's ID and sequence.",
   "metadata": {}
  },
  {
   "id": "564ec3a2",
   "cell_type": "code",
   "source": "#count of sequences\nfrom Bio import SeqIO\nfor record in SeqIO.parse(\"../data/fasta_example.fasta\", \"fasta\"):\n    print(record.id, record.seq)\n",
   "metadata": {
    "jupyter": {
     "is_executing": true
    },
    "trusted": true
   },
   "outputs": [
    {
     "name": "stdout",
     "output_type": "stream",
     "text": "sequence_1 ATGGCGTACGCTAGCTAGCTA\nsequence_2 ATGCTAGCTAGCTAGTGACTG\nsequence_3 AGTAGACTGGTGCTAGCTAGT\n"
    }
   ],
   "execution_count": 1
  },
  {
   "id": "8778c0a1",
   "cell_type": "markdown",
   "source": "Each line printed above shows the record's ID and sequence. You can now manipulate or analyze these sequences directly in Python.",
   "metadata": {}
  },
  {
   "id": "5e4c05b969682f81",
   "cell_type": "markdown",
   "source": "### 📗 FASTQ Format\n\nFASTQ is used for storing **sequencing reads** along with **per-base quality scores** from high-throughput sequencers.\n\nEach record consists of four lines:\n1. `@` followed by sequence ID\n2. Sequence string\n3. `+` separator\n4. ASCII-encoded quality scores\n\nExample:",
   "metadata": {}
  },
  {
   "id": "358e1d32-c56c-4cb0-8d09-56e9b094f964",
   "cell_type": "raw",
   "source": "@SEQ_ID_1\nGATCTGACTGACTG\n+\nIIIIIIIIIIIIIH\n@SEQ_ID_2\nATCGATCGTAGCTA\n+\nIIIIIIIHHHHHHG",
   "metadata": {}
  },
  {
   "id": "e37e55c9",
   "cell_type": "markdown",
   "source": "#### 📥 Reading FASTQ in Python\n\nWe can parse each sequence along with its quality scores using Biopython’s `SeqIO`.",
   "metadata": {}
  },
  {
   "id": "8a8a30cf",
   "cell_type": "code",
   "source": "\nfrom Bio import SeqIO\nfor record in SeqIO.parse(\"../data/fastq_example.fastq\", \"fastq\"):\n    print(record.id, record.seq, record.letter_annotations[\"phred_quality\"])\n",
   "metadata": {
    "jupyter": {
     "is_executing": true
    },
    "trusted": true
   },
   "outputs": [
    {
     "name": "stdout",
     "output_type": "stream",
     "text": "SEQ_ID_1 GATCTGACTGACTG [40, 40, 40, 40, 40, 40, 40, 40, 40, 40, 40, 40, 40, 39]\nSEQ_ID_2 ATCGATCGTAGCTA [40, 40, 40, 40, 40, 40, 40, 39, 39, 39, 39, 39, 39, 38]\n"
    }
   ],
   "execution_count": 2
  },
  {
   "id": "efe58f31",
   "cell_type": "markdown",
   "source": "Each sequence is printed with:\n- ID (e.g., SEQ_ID_1)\n- The nucleotide sequence\n- A list of numeric Phred quality scores\n\nYou can use these for quality filtering and downstream analysis.",
   "metadata": {}
  },
  {
   "id": "b93293ebe4d39acd",
   "cell_type": "markdown",
   "source": "### 📙 GenBank Format\n\nGenBank files contain sequences **and rich annotations** such as:\n- Gene locations\n- Organism name\n- Feature types (e.g., CDS, gene, mRNA)\n\nLet’s first look at a sample GenBank entry:",
   "metadata": {}
  },
  {
   "id": "b4e41296-c97c-488f-a941-fe5af7ed4c8d",
   "cell_type": "raw",
   "source": "LOCUS       SCU49845     25 bp    DNA             PLN       21-JUN-1999\nDEFINITION  Example GenBank entry.\nACCESSION   SCU49845\nVERSION     SCU49845.1\nKEYWORDS    .\nSOURCE      Artificial Sequence\n  ORGANISM  Artificial Sequence\n            .\nFEATURES             Location/Qualifiers\n     gene            1..10\n                     /gene=\"example_gene\"\nORIGIN\n        1 atggcgtaaa tagctagcta ctagc\n//",
   "metadata": {}
  },
  {
   "id": "3ed82360",
   "cell_type": "markdown",
   "source": "#### 📥 Reading GenBank in Python\n\nWe can load the record and access its annotations and features.",
   "metadata": {}
  },
  {
   "id": "5783f541",
   "cell_type": "code",
   "source": "\nfrom Bio import SeqIO\nrecord = SeqIO.read(\"../data/gb_example.gb\", \"genbank\")\nprint(record.annotations)\nfor feature in record.features:\n    print(feature.type, feature.location)\n",
   "metadata": {
    "trusted": true
   },
   "outputs": [],
   "execution_count": null
  },
  {
   "id": "cb368ee6",
   "cell_type": "markdown",
   "source": "The output includes:\n- Record metadata (e.g., source, keywords)\n- Annotated features with location (e.g., genes, coding sequences)\n\nThis format is essential when working with annotated genomes.",
   "metadata": {}
  },
  {
   "id": "36822a4c857bc52a",
   "cell_type": "markdown",
   "source": "### 📒 BED Format\n\nBED (Browser Extensible Data) files describe **genomic intervals** like gene locations or features on chromosomes. Each row typically contains:\n\n1. Chromosome (e.g., chr1)\n2. Start position (0-based)\n3. End position (exclusive)\n4. Optional name of the feature\n\nBED files are often used for genome annotation and feature extraction tasks.\n\nExample:",
   "metadata": {}
  },
  {
   "id": "3b71d6ae-40b4-44fa-bb9a-e3a7694fd75a",
   "cell_type": "raw",
   "source": "chr1    1000    5000    Gene1\nchr2    7000    9000    Gene2\nchr3    10000\t11000    Gene3",
   "metadata": {}
  },
  {
   "id": "a229b193",
   "cell_type": "markdown",
   "source": "#### 📥 Reading BED in Python\n\nWe can use `pandas` to read BED files as tab-delimited text.",
   "metadata": {}
  },
  {
   "id": "4dce0ce209fb9527",
   "cell_type": "code",
   "source": "import pandas as pd\n\nbed = pd.read_csv(\"../data/bed_example.bed\", sep=\"\\t\", header=None,\n                  names=[\"chrom\", \"start\", \"end\", \"name\"])\nprint(bed)\n",
   "metadata": {
    "trusted": true
   },
   "outputs": [],
   "execution_count": null
  },
  {
   "id": "27d2810b",
   "cell_type": "markdown",
   "source": "This outputs a table with chromosome names, start and end coordinates, and feature names.\n\nBED files are lightweight and fast to parse — perfect for visualizing or filtering regions of interest.",
   "metadata": {}
  },
  {
   "id": "21e4b5784c278cb3",
   "cell_type": "markdown",
   "source": "### 📕 SAM and BAM Formats\n\nSAM (Sequence Alignment/Map) and BAM (its binary equivalent) store alignments of sequencing reads to a reference genome.\n\nA typical SAM file includes:\n- Read names\n- Flags (e.g., mapped/unmapped)\n- Reference chromosome\n- Alignment position\n- CIGAR string (describes alignment)\n\nBAM files are compressed and more efficient for large datasets.\n\nExample (SAM format):",
   "metadata": {}
  },
  {
   "id": "d61b5e82-21f0-4b2a-94cb-86168d9b27e7",
   "cell_type": "raw",
   "source": "@SQ SN:chr1 LN:10000\nseq1    0   chr1    1000    255 10M *   0   0   ACGTAGCTAG  *\nseq2    0   chr1    1020    255 10M *   0   0   ACGTAGCTAC  *",
   "metadata": {}
  },
  {
   "id": "c111124a74c37550",
   "cell_type": "markdown",
   "source": "In order to create `.bam` file format using the `.sam` file use these two `bash` commands:",
   "metadata": {}
  },
  {
   "id": "f65ecc3bfceba6db",
   "cell_type": "code",
   "source": "!samtools view -S -b ../data/sam_example.sam > ../data/bam_example.bam\n!samtools index ../data/bam_example.bam",
   "metadata": {
    "trusted": true
   },
   "outputs": [],
   "execution_count": null
  },
  {
   "id": "0f676d1f",
   "cell_type": "markdown",
   "source": "#### 📥 Reading BAM in Python\n\nWe can use the `pysam` library to read and query alignments in BAM files.",
   "metadata": {}
  },
  {
   "id": "898fc251160e1b47",
   "cell_type": "code",
   "source": "import pysam\nbamfile = pysam.AlignmentFile(\"../data/bam_example.bam\", \"rb\")\nfor read in bamfile.fetch(\"chr1\", 1000, 2000):\n    print(read.query_name, read.query_sequence)",
   "metadata": {
    "trusted": true
   },
   "outputs": [],
   "execution_count": null
  },
  {
   "id": "be7a62b2",
   "cell_type": "markdown",
   "source": "The output shows each read's name and its aligned sequence within the specified region (`chr1:1000-2000` in this case).\n\nBAM files are essential in workflows like read mapping, variant calling, and coverage analysis.",
   "metadata": {}
  },
  {
   "id": "4e482f90-dabd-4121-b068-f4e8551ef466",
   "cell_type": "markdown",
   "source": "### 📓 VCF Format\n\nVCF (Variant Call Format) files store genomic variants such as SNPs, insertions, and deletions.\n\nEach record contains:\n- Chromosome and position\n- Reference and alternate alleles\n- Quality scores and filters\n- Optional annotations (e.g., genotype info)\n\nVCF files are commonly used in population genetics and clinical genomics.",
   "metadata": {}
  },
  {
   "id": "dd176225-a1b0-4c97-a16b-0ccca12dc515",
   "cell_type": "raw",
   "source": "##fileformat=VCFv4.2\n##source=TutorialExample\n##FILTER=<ID=q10,Description=\"Quality below 10\">\n##FILTER=<ID=q20,Description=\"Quality below 20\">\n##INFO=<ID=DP,Number=1,Type=Integer,Description=\"Total Depth\">\n#CHROM\tPOS\tID\tREF\tALT\tQUAL\tFILTER\tINFO\nchr1\t10176\t.\tA\tAC\t50\tPASS\tDP=20\nchr1\t10352\t.\tT\tTA\t60\tPASS\tDP=25\nchr1\t10616\t.\tC\tG\t30\tq10\tDP=10\nchr2\t20100\t.\tG\tA\t70\tPASS\tDP=40\nchr2\t20250\t.\tT\tC\t20\tq20\tDP=15",
   "metadata": {}
  },
  {
   "id": "628d3868-9ca1-432a-89aa-017db796475a",
   "cell_type": "markdown",
   "source": "#### 📥 Reading VCF in Python\n\nWe can use the `vcfpy` library to read VCF files.",
   "metadata": {}
  },
  {
   "id": "41d90936",
   "cell_type": "code",
   "source": "import vcfpy\nreader = vcfpy.Reader.from_path(\"../data/vcf_example.vcf\")\nfor record in reader:\n    print(record.CHROM, record.POS, record.REF, record.ALT)",
   "metadata": {
    "trusted": true
   },
   "outputs": [],
   "execution_count": null
  },
  {
   "id": "ce883c3d",
   "cell_type": "markdown",
   "source": "Each line shows the chromosome, position, reference allele, and alternate alleles.\n\nVCF files are essential for identifying variants and comparing genomes.",
   "metadata": {}
  },
  {
   "id": "0e0ea202",
   "cell_type": "markdown",
   "source": "### 📊 Gene Expression Format\n\nGene expression data is typically stored in tabular text files (TSV/CSV) where:\n- Rows represent genes or transcripts\n- Columns represent different samples or conditions\n- Cell values represent read counts, TPM, FPKM, or normalized expression levels\n\nExample:",
   "metadata": {}
  },
  {
   "id": "0b1ec257-2111-4762-aa1e-efc89c1b3ab5",
   "cell_type": "raw",
   "source": "gene    control_1 control_2 treated_1 treated_2 treated_3\ngene1   100       110       200       210       190\ngene2   300       320       400       410       420\ngene3   500       480       600       590       610\ngene4   80        85        160       150       170\ngene5   250       260       300       310       320",
   "metadata": {}
  },
  {
   "id": "b04d9f6a-d861-4e6a-b239-c4965227a8ca",
   "cell_type": "markdown",
   "source": "#### 📥 Reading Gene Expression in Python\n\nWe will use the `pandas` library to read this file since it is formated as `.txt` file.",
   "metadata": {}
  },
  {
   "id": "9bc6a86578554b36",
   "cell_type": "code",
   "source": "import pandas as pd\nexpr = pd.read_csv(\"../data/geneexpression_example.txt\", sep=\"\\s+\", index_col=0)\nprint(expr.head())\n\nprint(\"Mean expression per sample:\")\nprint(expr.mean())\n",
   "metadata": {
    "jupyter": {
     "is_executing": true
    },
    "trusted": true
   },
   "outputs": [],
   "execution_count": null
  },
  {
   "id": "68347c1f-7d14-484c-97c9-47dc4bf4ee28",
   "cell_type": "markdown",
   "source": "This table shows gene expression levels across samples. You can use it for differential expression analysis, clustering, or visualization.\n\nExpression matrices are a key input in transcriptomics and systems biology.",
   "metadata": {}
  },
  {
   "id": "a3690065",
   "cell_type": "markdown",
   "source": "## ✅ Summary\n\nIn this notebook, you learned how to:\n- Identify and interpret three key bioinformatics formats (FASTA, FASTQ, GenBank)\n- View file contents directly inside a notebook\n- Use `Bio.SeqIO` to parse and access records programmatically\n\nUp next: we’ll start working with real datasets and perform basic sequence analysis.",
   "metadata": {}
  }
 ]
}
