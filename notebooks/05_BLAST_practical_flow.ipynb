{
 "cells": [
  {
   "metadata": {},
   "cell_type": "markdown",
   "source": [
    "# 🧬 Introduction to BLAST\n",
    "\n",
    "**BLAST** (Basic Local Alignment Search Tool) is one of the most widely used tools in bioinformatics. It allows you to compare a query sequence (DNA or protein) against a database to find regions of local similarity.\n",
    "\n",
    "### 🧠 What does BLAST do?\n",
    "- Finds regions of local similarity\n",
    "- Identifies homologous genes or proteins\n",
    "- Estimates evolutionary distances\n",
    "\n",
    "### 🔍 Types of BLAST\n",
    "- `blastn`: DNA vs DNA\n",
    "- `blastp`: Protein vs Protein\n",
    "- `blastx`, `tblastn`, `tblastx`: Mixed queries with translation"
   ],
   "id": "b281ed1de2d5e1c"
  },
  {
   "metadata": {},
   "cell_type": "markdown",
   "source": [
    "## ⚡ Quick BLAST Demo (Online)\n",
    "This example shows how to query a short DNA sequence using `blastn` against the NCBI nucleotide database."
   ],
   "id": "3fee9a268e32a0e7"
  },
  {
   "metadata": {
    "trusted": true
   },
   "cell_type": "code",
   "outputs": [
    {
     "name": "stdout",
     "output_type": "stream",
     "text": []
    }
   ],
   "execution_count": 3,
   "source": [
    "from Bio.Blast import NCBIWWW, NCBIXML\n",
    "\n",
    "result_handle = NCBIWWW.qblast(\n",
    "    program=\"blastn\",\n",
    "    database=\"nt\",\n",
    "    sequence=\"GATTTGGGGTTTTAGTAGAATTCTCGC\",\n",
    ")\n",
    "\n",
    "# Save to file for inspection later\n",
    "with open(\"blast_result.xml\", \"w\") as f:\n",
    "    f.write(result_handle.read())\n",
    "print(\"BLAST result saved to blast_result.xml\")"
   ],
   "id": "79e97364f6f161fd"
  },
  {
   "metadata": {
    "trusted": true
   },
   "cell_type": "code",
   "outputs": [
    {
     "name": "stdout",
     "output_type": "stream",
     "text": []
    }
   ],
   "execution_count": 6,
   "source": [
    "# Parse and display quick BLAST result\n",
    "with open(\"blast_result.xml\") as result_file:\n",
    "    blast_record = NCBIXML.read(result_file)\n",
    "\n",
    "print(f\"Found {len(blast_record.alignments)} alignments.\")\n",
    "\n",
    "for alignment in blast_record.alignments[:3]:\n",
    "    hsp = alignment.hsps[0]\n",
    "    print(\"\\n****Alignment****\")\n",
    "    print(f\"Title: {alignment.title}\")\n",
    "    print(f\"Length: {alignment.length}\")\n",
    "    print(f\"E-value: {hsp.expect}\")\n",
    "    print(hsp.query[0:75] + \"...\")\n",
    "    print(hsp.match[0:75] + \"...\")\n",
    "    print(hsp.sbjct[0:75] + \"...\")"
   ],
   "id": "c820cf8b4c6cfb26"
  },
  {
   "metadata": {},
   "cell_type": "markdown",
   "source": [
    "# 🔬 Full BLAST Workflow: From Genome to Protein Analysis\n",
    "\n",
    "In this section, we will:\n",
    "1. Fetch the **E. coli K12 genome** from NCBI\n",
    "2. Extract coding sequences (CDS) and proteins\n",
    "3. Save a selected protein in FASTA format\n",
    "4. Perform a BLAST search using the protein\n",
    "5. Analyze and interpret the results"
   ],
   "id": "a923d37a4b69a096"
  },
  {
   "metadata": {},
   "cell_type": "markdown",
   "source": "## 📥 Step 1: Fetch E. coli K12 Genome from NCBI",
   "id": "6c3e3ad666aee8e7"
  },
  {
   "metadata": {
    "trusted": true
   },
   "cell_type": "code",
   "outputs": [
    {
     "name": "stdout",
     "output_type": "stream",
     "text": []
    }
   ],
   "execution_count": 7,
   "source": [
    "from Bio import Entrez, SeqIO\n",
    "\n",
    "Entrez.email = \"blagoj4e@gmail.com\"  # Replace with your email\n",
    "handle = Entrez.efetch(db=\"nucleotide\", id=\"U00096.3\", rettype=\"gb\", retmode=\"text\")  # E. coli K12 MG1655\n",
    "with open(\"ecoli_k12.gb\", \"w\") as f:\n",
    "    f.write(handle.read())\n",
    "print(\"Genome saved to ecoli_k12.gb\")"
   ],
   "id": "9f78399ead3b2b5d"
  },
  {
   "metadata": {},
   "cell_type": "markdown",
   "source": "## 🧬 Step 2: Parse Genome and Extract Proteins",
   "id": "7fd970fa8d349f46"
  },
  {
   "metadata": {
    "trusted": true
   },
   "cell_type": "code",
   "outputs": [
    {
     "name": "stdout",
     "output_type": "stream",
     "text": []
    }
   ],
   "execution_count": 8,
   "source": [
    "record = SeqIO.read(\"ecoli_k12.gb\", \"genbank\")\n",
    "proteins = []\n",
    "\n",
    "for feature in record.features:\n",
    "    if feature.type == \"CDS\" and \"translation\" in feature.qualifiers:\n",
    "        protein = feature.qualifiers[\"translation\"][0]\n",
    "        if len(protein) > 20:\n",
    "            proteins.append(protein)\n",
    "\n",
    "print(f\"Extracted {len(proteins)} protein sequences longer than 20 amino acids.\")"
   ],
   "id": "3da6b694665a654a"
  },
  {
   "metadata": {},
   "cell_type": "markdown",
   "source": "## 💾 Step 3: Save a Protein to FASTA",
   "id": "72881f140b92dcf4"
  },
  {
   "metadata": {
    "trusted": true
   },
   "cell_type": "code",
   "outputs": [
    {
     "name": "stdout",
     "output_type": "stream",
     "text": []
    }
   ],
   "execution_count": 9,
   "source": [
    "from Bio.Seq import Seq\n",
    "from Bio.SeqRecord import SeqRecord\n",
    "from Bio import SeqIO\n",
    "\n",
    "selected_protein = proteins[0]\n",
    "record = SeqRecord(Seq(selected_protein), id=\"EcoliK12_protein1\", description=\"E. coli K12 protein\")\n",
    "SeqIO.write(record, \"ecoli_protein.fasta\", \"fasta\")\n",
    "print(\"Saved first protein to ecoli_protein.fasta\")"
   ],
   "id": "a8bd162fc08061c0"
  },
  {
   "metadata": {},
   "cell_type": "markdown",
   "source": [
    "## 🔍 Step 4: Run BLAST and Parse Results\n",
    "We’ll now use `SearchIO` to analyze the BLAST result (online or local)."
   ],
   "id": "d3ce528635786929"
  },
  {
   "metadata": {
    "trusted": true
   },
   "cell_type": "code",
   "outputs": [
    {
     "name": "stdout",
     "output_type": "stream",
     "text": []
    }
   ],
   "execution_count": 10,
   "source": [
    "from Bio.Blast import NCBIWWW\n",
    "from Bio import SearchIO\n",
    "\n",
    "# Run online BLAST (this can take a while)\n",
    "with open(\"ecoli_protein.fasta\") as fasta_file:\n",
    "    result_handle = NCBIWWW.qblast(\"blastp\", \"nr\", fasta_file.read())\n",
    "\n",
    "# Save and parse\n",
    "with open(\"blast_result_ecoli.xml\", \"w\") as out_handle:\n",
    "    out_handle.write(result_handle.read())\n",
    "\n",
    "blast_qresult = SearchIO.read(\"blast_result_ecoli.xml\", \"blast-xml\")\n",
    "\n",
    "print(f\"Query ID: {blast_qresult.id}\")\n",
    "print(f\"Number of hits: {len(blast_qresult)}\")"
   ],
   "id": "67a78f9f73ea51e6"
  },
  {
   "metadata": {},
   "cell_type": "markdown",
   "source": "## 📊 Step 5: Show Top BLAST Hits",
   "id": "a2019906f4a2098f"
  },
  {
   "metadata": {
    "trusted": true
   },
   "cell_type": "code",
   "outputs": [
    {
     "name": "stdout",
     "output_type": "stream",
     "text": []
    }
   ],
   "execution_count": 12,
   "source": [
    "for hit in blast_qresult.hits[:]:\n",
    "    print(f\"Hit ID: {hit.id}\\nDescription: {hit.description}\\nE-value: {hit.hsps[0].evalue}\\n\")"
   ],
   "id": "cd41ab538cca1ff9"
  },
  {
   "metadata": {
    "trusted": true
   },
   "cell_type": "code",
   "outputs": [],
   "source": "",
   "id": "7c7f89b7e787fa30",
   "execution_count": null
  }
 ],
 "metadata": {
  "kernelspec": {
   "display_name": "Python 3",
   "language": "python",
   "name": "python3"
  },
  "language_info": {
   "codemirror_mode": {
    "name": "ipython",
    "version": 2
   },
   "file_extension": ".py",
   "mimetype": "text/x-python",
   "name": "python",
   "nbconvert_exporter": "python",
   "pygments_lexer": "ipython2",
   "version": "2.7.6"
  }
 },
 "nbformat": 4,
 "nbformat_minor": 5
}
