{
 "cells": [
  {
   "metadata": {},
   "cell_type": "markdown",
   "source": "# SECTION 4: Core Bioinformatics Functions",
   "id": "351f0cbb72741f71"
  },
  {
   "metadata": {},
   "cell_type": "code",
   "outputs": [],
   "execution_count": null,
   "source": [
    "## Imports\n",
    "from Bio.Seq import Seq\n",
    "from Bio.SeqUtils import MeltingTemp as mt\n",
    "from Bio.Data import CodonTable\n",
    "from skbio import DNA\n",
    "from skbio.alignment import global_pairwise_align_nucleotide\n",
    "\n",
    "print(\"### Biopython Sequence Basics\")\n",
    "# Define DNA sequence\n",
    "seq = Seq(\"ATGGCCATTGTAATGGGCCGCTGAAAGGGTGCCCGATAG\")\n",
    "print(\"Original:\", seq)\n",
    "print(\"Complement:\", seq.complement())\n",
    "print(\"Reverse:\", seq[::-1])\n",
    "print(\"Reverse Complement:\", seq.reverse_complement())\n",
    "print(\"Transcription:\", seq.transcribe())\n",
    "print(\"Translation:\", seq.translate())\n",
    "\n",
    "print(\"\\n### scikit-bio Sequence Analysis\")\n",
    "sequence = DNA(\"ATGCGTAGCTAG\")\n",
    "print(\"GC content:\", sequence.gc_content())\n",
    "print(\"Nucleotide frequencies (1-mers):\", sequence.kmer_frequencies(k=1))\n",
    "print(\"3-mers:\", sequence.kmer_frequencies(k=3))\n",
    "\n",
    "print(\"\\n### Biopython Codon Table\")\n",
    "standard_table = CodonTable.unambiguous_dna_by_name[\"Standard\"]\n",
    "print(\"Start codons:\", standard_table.start_codons)\n",
    "print(\"Stop codons:\", standard_table.stop_codons)\n",
    "\n",
    "print(\"\\n### Biopython Motif Search\")\n",
    "motif = \"TATA\"\n",
    "seq2 = Seq(\"TATAAGCGTATAAATAGCGGTATA\")\n",
    "positions = [i for i in range(len(seq2)) if seq2[i:i+len(motif)] == motif]\n",
    "print(f\"Motif '{motif}' found at positions:\", positions)\n",
    "\n",
    "print(\"\\n### Biopython Melting Temperature\")\n",
    "dna_seq = \"ATCGATCGATCG\"\n",
    "print(\"Melting temperature (Wallace rule):\", mt.Tm_Wallace(dna_seq))\n",
    "\n",
    "print(\"\\n### scikit-bio Sequence Alignment\")\n",
    "seq1 = DNA(\"ACGTA\")\n",
    "seq2 = DNA(\"ACCTA\")\n",
    "alignment, score, _ = global_pairwise_align_nucleotide(seq1, seq2)\n",
    "print(\"Alignment score:\", score)\n",
    "print(alignment)"
   ],
   "id": "7c2b28403871873c"
  }
 ],
 "metadata": {
  "kernelspec": {
   "display_name": "Python 3",
   "language": "python",
   "name": "python3"
  },
  "language_info": {
   "codemirror_mode": {
    "name": "ipython",
    "version": 2
   },
   "file_extension": ".py",
   "mimetype": "text/x-python",
   "name": "python",
   "nbconvert_exporter": "python",
   "pygments_lexer": "ipython2",
   "version": "2.7.6"
  }
 },
 "nbformat": 4,
 "nbformat_minor": 5
}
