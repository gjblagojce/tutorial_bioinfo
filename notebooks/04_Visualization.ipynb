{
 "cells": [
  {
   "metadata": {},
   "cell_type": "markdown",
   "source": "## Visualization and Interactive Analysis",
   "id": "2ab8de1ea384bd6"
  },
  {
   "metadata": {},
   "cell_type": "markdown",
   "source": [
    "### Example A: Sequence Alignment Visualization (matplotlib)\n",
    "Purpose: Visualize simple alignment scores as a bar plot."
   ],
   "id": "e4da4d9aa2959684"
  },
  {
   "metadata": {},
   "cell_type": "code",
   "outputs": [],
   "execution_count": null,
   "source": [
    "from skbio import read, DNA\n",
    "from skbio.alignment import local_pairwise_align_ssw\n",
    "import matplotlib.pyplot as plt\n",
    "import itertools\n",
    "\n",
    "# ---- Step 1: Read sequences from FASTA ----\n",
    "fasta_file = \"../data/fasta_example.fasta\"  # Update if needed\n",
    "sequences = list(read(fasta_file, format=\"fasta\", constructor=DNA))\n",
    "names = [seq.metadata['id'] for seq in sequences]\n",
    "\n",
    "# ---- Step 2: Perform pairwise alignments ----\n",
    "pairs = list(itertools.combinations(enumerate(sequences), 2))  # all unique pairs\n",
    "labels = []\n",
    "scores = []\n",
    "\n",
    "for (i, seq1), (j, seq2) in pairs:\n",
    "    alignment, score, _ = local_pairwise_align_ssw(seq1, seq2)\n",
    "    label = f\"{names[i]} vs {names[j]}\"\n",
    "    labels.append(label)\n",
    "    scores.append(score)\n",
    "\n",
    "# ---- Step 3: Plot ----\n",
    "plt.figure(figsize=(8, 5))\n",
    "plt.bar(labels, scores, color=\"skyblue\", edgecolor=\"black\")\n",
    "plt.ylabel(\"Alignment Score\")\n",
    "plt.title(\"Sequence Alignment Scores\")\n",
    "plt.xticks(rotation=45)\n",
    "plt.tight_layout()\n",
    "plt.show()"
   ],
   "id": "2ef19ba529ef1d83"
  },
  {
   "metadata": {},
   "cell_type": "markdown",
   "source": [
    "### Example B: Variant Quality Distribution (seaborn)\n",
    "Purpose: Visualize variant quality scores from a VCF file.\n"
   ],
   "id": "c53dc8c2c29cad4"
  },
  {
   "metadata": {},
   "cell_type": "code",
   "outputs": [],
   "execution_count": null,
   "source": [
    "import seaborn as sns\n",
    "import matplotlib.pyplot as plt\n",
    "import vcfpy\n",
    "\n",
    "# Open and parse the VCF file\n",
    "reader = vcfpy.Reader.from_path(\"../data/vcf_example.vcf\")\n",
    "quals = [record.QUAL for record in reader if record.QUAL is not None]\n",
    "\n",
    "# Plot the distribution of quality scores\n",
    "sns.histplot(quals, kde=True)\n",
    "plt.xlabel('Variant Quality Score')\n",
    "plt.title('Distribution of Variant Quality Scores')\n",
    "plt.show()"
   ],
   "id": "9a69782dd12bb0ff"
  },
  {
   "metadata": {},
   "cell_type": "markdown",
   "source": [
    "### Example C: Interactive Volcano Plot (plotly)\n",
    "Purpose: Interactively visualize RNA-seq results.\n"
   ],
   "id": "cbc550f400e9c1ea"
  },
  {
   "metadata": {},
   "cell_type": "code",
   "outputs": [],
   "execution_count": null,
   "source": [
    "import pandas as pd\n",
    "import numpy as np\n",
    "import plotly.express as px\n",
    "\n",
    "# Load gene expression results\n",
    "df = pd.read_csv(\"../data/example_gene_expression.csv\")\n",
    "\n",
    "# Compute -log10 p-values\n",
    "df['neg_log10_pval'] = -np.log10(df['pvalue'])\n",
    "\n",
    "# Define significance based on padj and log2FC thresholds\n",
    "df['significance'] = 'Not Significant'\n",
    "df.loc[(df['padj'] < 0.05) & (df['log2FoldChange'] > 1), 'significance'] = 'Upregulated'\n",
    "df.loc[(df['padj'] < 0.05) & (df['log2FoldChange'] < -1), 'significance'] = 'Downregulated'\n",
    "\n",
    "# Volcano plot\n",
    "fig = px.scatter(df,\n",
    "                 x='log2FoldChange',\n",
    "                 y='neg_log10_pval',\n",
    "                 color='significance',\n",
    "                 hover_name='gene',\n",
    "                 title='Interactive Volcano Plot',\n",
    "                 labels={\n",
    "                     'log2FoldChange': 'log2(Fold Change)',\n",
    "                     'neg_log10_pval': '-log10(p-value)',\n",
    "                     'significance': 'Regulation Status'\n",
    "                 },\n",
    "                 color_discrete_map={\n",
    "                     'Upregulated': 'red',\n",
    "                     'Downregulated': 'blue',\n",
    "                     'Not Significant': 'gray'\n",
    "                 })\n",
    "\n",
    "fig.update_traces(marker=dict(size=10, line=dict(width=0.5, color='DarkSlateGrey')))\n",
    "fig.show()"
   ],
   "id": "130a9578ac9c524"
  }
 ],
 "metadata": {},
 "nbformat": 4,
 "nbformat_minor": 5
}
