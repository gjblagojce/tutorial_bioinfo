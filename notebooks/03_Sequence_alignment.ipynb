{
 "cells": [
  {
   "metadata": {},
   "cell_type": "markdown",
   "source": [
    "# 🧬 Pairwise Sequence Alignment in Biopython\n",
    "\n",
    "Pairwise sequence alignment compares two biological sequences (DNA, RNA, or protein) to identify regions of similarity. These similarities can provide insights into functional, structural, or evolutionary relationships.\n",
    "\n",
    "In this notebook, you'll:\n",
    "\n",
    "- Learn the types of alignments (global vs local)\n",
    "- Understand scoring systems (match, mismatch, gap penalties)\n",
    "- Use Biopython’s modern `PairwiseAligner` class to perform alignments\n",
    "- Visualize alignments in a human-readable format"
   ],
   "id": "c4de73cad6f9c5ee"
  },
  {
   "metadata": {},
   "cell_type": "markdown",
   "source": [
    "## 🔄 Types of Pairwise Alignments\n",
    "\n",
    "There are two main types of pairwise alignments:\n",
    "\n",
    "- **Global alignment**: Aligns sequences across their entire length. Best when sequences are of similar size and expected to be homologous.\n",
    "  - Example: Comparing two versions of a gene from different species.\n",
    "\n",
    "- **Local alignment**: Aligns the most similar subsequence regions. Best for identifying conserved motifs or domains in divergent sequences.\n",
    "  - Example: Finding a conserved transcription factor binding site."
   ],
   "id": "267f1b2a87511d1b"
  },
  {
   "metadata": {},
   "cell_type": "markdown",
   "source": [
    "## 🧮 Alignment Scoring System\n",
    "\n",
    "Alignment accuracy depends on the scoring system you choose. You can customize:\n",
    "\n",
    "- **Match score**: Reward for identical bases (e.g., +2)\n",
    "- **Mismatch penalty**: Penalty for substitutions (e.g., -1)\n",
    "- **Gap penalties**:\n",
    "  - **Gap open penalty**: Cost to start a new gap\n",
    "  - **Gap extension penalty**: Cost to extend an existing gap\n",
    "\n",
    "These values affect how aggressive the alignment is about introducing gaps or mismatches."
   ],
   "id": "bbb5522c8f1e938"
  },
  {
   "metadata": {},
   "cell_type": "markdown",
   "source": [
    "## ⚙️ Biopython `PairwiseAligner`\n",
    "\n",
    "As of Biopython v1.78+, the recommended way to do pairwise alignments is to use:\n",
    "\n",
    "```python\n",
    "from Bio import Align\n",
    "```\n",
    "\n",
    "This new aligner replaces the older `pairwise2` module and offers:\n",
    "- Support for both global and local alignments\n",
    "- Flexible scoring configuration\n",
    "- Better performance and future compatibility\n"
   ],
   "id": "c8aa2f4d93dc8b9d"
  },
  {
   "metadata": {},
   "cell_type": "markdown",
   "source": "# 🔬 Examples using Biopython's `PairwiseAligner`\n",
   "id": "5e0674ff78171830"
  },
  {
   "metadata": {},
   "cell_type": "markdown",
   "source": "## 📦 Setup and Import",
   "id": "4cc548306c18c623"
  },
  {
   "metadata": {
    "trusted": true
   },
   "cell_type": "code",
   "outputs": [],
   "execution_count": 1,
   "source": [
    "from Bio import Align\n",
    "aligner = Align.PairwiseAligner()"
   ],
   "id": "f616773c18d76a0c"
  },
  {
   "metadata": {},
   "cell_type": "markdown",
   "source": [
    "## 1️⃣ Global Alignment (Match = 1, Mismatch = 0, No Gap Penalties)\n",
    "This example mimics the old `globalxx` method: only matching characters contribute to the score."
   ],
   "id": "d63bb83ae274154c"
  },
  {
   "metadata": {
    "trusted": true
   },
   "cell_type": "code",
   "outputs": [
    {
     "name": "stdout",
     "output_type": "stream",
     "text": []
    }
   ],
   "execution_count": 29,
   "source": [
    "aligner.mode = 'global'\n",
    "aligner.match_score = 1\n",
    "aligner.mismatch_score = 0\n",
    "aligner.open_gap_score = 0\n",
    "aligner.extend_gap_score = 0\n",
    "\n",
    "alignments = aligner.align(\"AAGGTT\", \"AGTTAG\")\n",
    "print(alignments[0])\n",
    "print(\"score:\", alignments.score)"
   ],
   "id": "d0b3ab97dca2e235"
  },
  {
   "metadata": {},
   "cell_type": "markdown",
   "source": [
    "## 2️⃣ Global Alignment (Match = 2, Mismatch = -1)\n",
    "Here we assign a penalty for mismatches while rewarding matches more heavily."
   ],
   "id": "2083d34f06e276d4"
  },
  {
   "metadata": {
    "trusted": true
   },
   "cell_type": "code",
   "outputs": [
    {
     "name": "stdout",
     "output_type": "stream",
     "text": []
    }
   ],
   "execution_count": 31,
   "source": [
    "aligner.mode = 'global'\n",
    "aligner.match_score = 2\n",
    "aligner.mismatch_score = -1\n",
    "aligner.open_gap_score = 0\n",
    "aligner.extend_gap_score = 0\n",
    "\n",
    "alignments = aligner.align(\"AAGGTT\", \"AGTTAG\")\n",
    "print(alignments[0])\n",
    "print(\"score:\", alignments.score)"
   ],
   "id": "3d6319d12582c28f"
  },
  {
   "metadata": {},
   "cell_type": "markdown",
   "source": [
    "## 3️⃣ Global Alignment with Gap Penalties (Open = -2, Extend = -1)\n",
    "Gap opening and extension penalties discourage unnecessary gaps."
   ],
   "id": "3cfe92addf6c6601"
  },
  {
   "metadata": {
    "trusted": true
   },
   "cell_type": "code",
   "outputs": [
    {
     "name": "stdout",
     "output_type": "stream",
     "text": []
    }
   ],
   "execution_count": 33,
   "source": [
    "aligner.mode = 'global'\n",
    "aligner.match_score = 1\n",
    "aligner.mismatch_score = -1\n",
    "aligner.open_gap_score = -2\n",
    "aligner.extend_gap_score = -1\n",
    "\n",
    "alignments = aligner.align(\"AAGGTT\", \"AGTTAG\")\n",
    "print(alignments[0])\n",
    "print(\"score:\", alignments.score)"
   ],
   "id": "5afeb02e518f0a4"
  },
  {
   "metadata": {},
   "cell_type": "markdown",
   "source": [
    "## 4️⃣ Protein Alignment with BLOSUM62 Matrix\n",
    "Use a substitution matrix to align protein sequences with biologically meaningful scores."
   ],
   "id": "7beab2b102af036e"
  },
  {
   "metadata": {
    "trusted": true
   },
   "cell_type": "code",
   "outputs": [
    {
     "name": "stdout",
     "output_type": "stream",
     "text": []
    }
   ],
   "execution_count": 15,
   "source": [
    "from Bio.Align import substitution_matrices\n",
    "\n",
    "matrix = substitution_matrices.load(\"BLOSUM62\")\n",
    "aligner.substitution_matrix = matrix\n",
    "aligner.open_gap_score = -10\n",
    "aligner.extend_gap_score = -0.5\n",
    "\n",
    "alignments = aligner.align(\"KEVLA\", \"EVL\")\n",
    "print(alignments[0])\n",
    "print(\"score:\", alignments.score)"
   ],
   "id": "a3b66d39663a4d3d"
  },
  {
   "metadata": {},
   "cell_type": "markdown",
   "source": [
    "## 5️⃣ Local Alignment (Match = 2, Mismatch = -1, Gaps Open = -2, Extend = -1)\n",
    "Local alignment finds the best matching sub-region between two sequences."
   ],
   "id": "3d6f2980b582df54"
  },
  {
   "metadata": {
    "trusted": true
   },
   "cell_type": "code",
   "outputs": [
    {
     "name": "stdout",
     "output_type": "stream",
     "text": []
    }
   ],
   "execution_count": 32,
   "source": [
    "aligner.mode = 'local'\n",
    "aligner.match_score = 2\n",
    "aligner.mismatch_score = -1\n",
    "aligner.open_gap_score = -2\n",
    "aligner.extend_gap_score = -1\n",
    "\n",
    "alignments = aligner.align(\"AAGGTT\", \"AGTTAG\")\n",
    "print(alignments[0])\n",
    "print(\"score:\", alignments.score)"
   ],
   "id": "e9937c0eaa54dd19"
  },
  {
   "metadata": {},
   "cell_type": "markdown",
   "source": [
    "# 🔁 Different Alignments from Scoring Schemes\n",
    "\n",
    "This example shows how changing scoring parameters in Biopython's `PairwiseAligner` can lead to different alignments, even with the same two sequences."
   ],
   "id": "9a654766aee834e5"
  },
  {
   "metadata": {},
   "cell_type": "markdown",
   "source": [
    "## 🧬 Sequences to Align\n",
    "We will align:\n",
    "- `AAGGTT`\n",
    "- `AGTTAG`\n",
    "\n",
    "These sequences contain overlaps and differences that will respond differently to scoring schemes."
   ],
   "id": "7b0ec3e2b26530a5"
  },
  {
   "metadata": {
    "trusted": true
   },
   "cell_type": "code",
   "outputs": [],
   "execution_count": 34,
   "source": [
    "from Bio import Align\n",
    "aligner = Align.PairwiseAligner()\n",
    "seq1 = \"AAGGTT\"\n",
    "seq2 = \"AGTTAG\""
   ],
   "id": "94f7e61077b4248"
  },
  {
   "metadata": {},
   "cell_type": "markdown",
   "source": [
    "## ⚖️ Example 1: Match = 2, Mismatch = -1, No Gap Penalty\n",
    "This scoring encourages matching without penalizing gaps."
   ],
   "id": "6979cfa22dc12e7b"
  },
  {
   "metadata": {
    "trusted": true
   },
   "cell_type": "code",
   "outputs": [
    {
     "name": "stdout",
     "output_type": "stream",
     "text": []
    }
   ],
   "execution_count": 35,
   "source": [
    "aligner.mode = 'global'\n",
    "aligner.match_score = 2\n",
    "aligner.mismatch_score = -1\n",
    "aligner.open_gap_score = 0\n",
    "aligner.extend_gap_score = 0\n",
    "\n",
    "alignments = aligner.align(seq1, seq2)\n",
    "print(alignments[0])\n",
    "print(\"score:\", alignments.score)"
   ],
   "id": "3a842e28fc97cd6d"
  },
  {
   "metadata": {},
   "cell_type": "markdown",
   "source": [
    "## ❌ Example 2: Penalize Gaps Heavily\n",
    "Now we discourage gaps strongly, which can shift the alignment strategy."
   ],
   "id": "b76d75723a3fe63d"
  },
  {
   "metadata": {
    "trusted": true
   },
   "cell_type": "code",
   "outputs": [
    {
     "name": "stdout",
     "output_type": "stream",
     "text": []
    }
   ],
   "execution_count": 36,
   "source": [
    "aligner.mode = 'global'\n",
    "aligner.match_score = 1\n",
    "aligner.mismatch_score = -1\n",
    "aligner.open_gap_score = -5\n",
    "aligner.extend_gap_score = -2\n",
    "\n",
    "alignments = aligner.align(seq1, seq2)\n",
    "print(alignments[0])\n",
    "print(\"score:\", alignments.score)"
   ],
   "id": "6a439033efcb32de"
  },
  {
   "metadata": {},
   "cell_type": "markdown",
   "source": [
    "## 🔍 Observation\n",
    "Notice how the alignment changes:\n",
    "- In **Example 1**, the aligner may introduce gaps to maximize matching bases.\n",
    "- In **Example 2**, the aligner avoids gaps, possibly accepting mismatches instead.\n",
    "\n",
    "This illustrates how scoring influences biological interpretations!"
   ],
   "id": "266165bae58277d5"
  }
 ],
 "metadata": {
  "kernelspec": {
   "display_name": "Python 3",
   "language": "python",
   "name": "python3"
  },
  "language_info": {
   "codemirror_mode": {
    "name": "ipython",
    "version": 2
   },
   "file_extension": ".py",
   "mimetype": "text/x-python",
   "name": "python",
   "nbconvert_exporter": "python",
   "pygments_lexer": "ipython2",
   "version": "2.7.6"
  }
 },
 "nbformat": 4,
 "nbformat_minor": 5
}
