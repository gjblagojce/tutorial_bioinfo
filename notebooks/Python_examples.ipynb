{
 "cells": [
  {
   "metadata": {},
   "cell_type": "markdown",
   "source": "# Python Bioinformatics Notebook",
   "id": "f4955991"
  },
  {
   "metadata": {},
   "cell_type": "code",
   "outputs": [],
   "execution_count": null,
   "source": [
    "\n",
    "# To be run in terminal, not notebook:\n",
    "# conda create -n bioinfo python=3.11\n",
    "# conda activate bioinfo\n",
    "# conda install -c conda-forge biopython scikit-bio numpy pandas matplotlib jupyter\n",
    "# pip install PyVCF\n"
   ],
   "id": "14b7a8b1"
  },
  {
   "metadata": {},
   "cell_type": "markdown",
   "source": "## Check environment",
   "id": "ba5f96f1"
  },
  {
   "metadata": {},
   "cell_type": "code",
   "outputs": [],
   "execution_count": null,
   "source": [
    "import Bio\n",
    "import skbio\n",
    "import numpy\n",
    "import pandas\n",
    "import matplotlib\n",
    "import vcf\n",
    "\n",
    "print(\"All Python packages successfully installed.\")"
   ],
   "id": "7565dae885a91681"
  },
  {
   "metadata": {},
   "cell_type": "markdown",
   "source": [
    "## Section 1: Bioinformatics Data Formats\n",
    "\n",
    "In bioinformatics, data comes in specialized file formats designed to handle biological sequences, annotations, genomic alignments, variant information, and gene expression data. Here are the most important formats:\n",
    "\n"
   ],
   "id": "fb315aad2f905f1c"
  },
  {
   "metadata": {},
   "cell_type": "markdown",
   "source": "- **FASTA Format**: Stores nucleotide or protein sequences",
   "id": "95a62e0e40ebaeb"
  },
  {
   "metadata": {},
   "cell_type": "code",
   "outputs": [],
   "execution_count": null,
   "source": [
    ">gene1_human\n",
    "ATGGCGTACGCTAGCTAGCTA\n",
    ">gene2_mouse\n",
    "ATGCTAGCTAGCTAGTGACTG"
   ],
   "id": "561d15681542531e"
  },
  {
   "metadata": {
    "jupyter": {
     "is_executing": true
    }
   },
   "cell_type": "code",
   "source": [
    "#count of sequences\n",
    "from Bio import SeqIO\n",
    "for record in SeqIO.parse(\"../data/fasta_example.fasta\", \"fasta\"):\n",
    "    print(record.id, record.seq)\n"
   ],
   "id": "564ec3a2",
   "outputs": [],
   "execution_count": null
  },
  {
   "metadata": {},
   "cell_type": "markdown",
   "source": "- **FASTQ Format**: Stores sequencing reads and their quality scores from sequencing machines.\n",
   "id": "5e4c05b969682f81"
  },
  {
   "metadata": {},
   "cell_type": "code",
   "outputs": [],
   "execution_count": null,
   "source": [
    "@SEQ_ID_1\n",
    "GATCTGACTGACTG\n",
    "+\n",
    "IIIIIIIIIIIIIH\n",
    "@SEQ_ID_2\n",
    "ATCGATCGTAGCTA\n",
    "+\n",
    "IIIIIIIHHHHHHG"
   ],
   "id": "1296e7f50b2edd2c"
  },
  {
   "metadata": {
    "jupyter": {
     "is_executing": true
    }
   },
   "cell_type": "code",
   "source": [
    "\n",
    "from Bio import SeqIO\n",
    "for record in SeqIO.parse(\"../data/fastq_example.fastq\", \"fastq\"):\n",
    "    print(record.id, record.seq, record.letter_annotations[\"phred_quality\"])\n"
   ],
   "id": "8a8a30cf",
   "outputs": [],
   "execution_count": null
  },
  {
   "metadata": {},
   "cell_type": "markdown",
   "source": "- **GenBank Format**: Stores sequences and their annotations, such as gene locations and organism information.",
   "id": "b93293ebe4d39acd"
  },
  {
   "metadata": {},
   "cell_type": "code",
   "outputs": [],
   "execution_count": null,
   "source": [
    "LOCUS       SCU49845     25 bp    DNA             PLN       21-JUN-1999\n",
    "DEFINITION  Example GenBank entry.\n",
    "ACCESSION   SCU49845\n",
    "VERSION     SCU49845.1\n",
    "KEYWORDS    .\n",
    "SOURCE      Artificial Sequence\n",
    "  ORGANISM  Artificial Sequence\n",
    "            .\n",
    "FEATURES             Location/Qualifiers\n",
    "     gene            1..10\n",
    "                     /gene=\"example_gene\"\n",
    "ORIGIN\n",
    "        1 atggcgtaaa tagctagcta ctagc\n",
    "//"
   ],
   "id": "15b84cfcada3dac5"
  },
  {
   "metadata": {},
   "cell_type": "code",
   "source": [
    "\n",
    "from Bio import SeqIO\n",
    "record = SeqIO.read(\"../data/gb_example.gb\", \"genbank\")\n",
    "print(record.annotations)\n",
    "for feature in record.features:\n",
    "    print(feature.type, feature.location)\n"
   ],
   "id": "5783f541",
   "outputs": [],
   "execution_count": null
  },
  {
   "metadata": {},
   "cell_type": "markdown",
   "source": "- **GFF/GTF/BED Formats**: Define genomic feature locations, like gene start and end positions.",
   "id": "36822a4c857bc52a"
  },
  {
   "metadata": {},
   "cell_type": "code",
   "outputs": [],
   "execution_count": null,
   "source": [
    "chr1    1000    5000    Gene1\n",
    "chr2    7000    9000    Gene2\n",
    "chr3    10000\t11000    Gene2"
   ],
   "id": "75545af5e79947af"
  },
  {
   "metadata": {},
   "cell_type": "code",
   "outputs": [],
   "execution_count": null,
   "source": [
    "import pandas as pd\n",
    "\n",
    "bed = pd.read_csv(\"../data/bed_example.bed\", sep=\"\\t\", header=None,\n",
    "                  names=[\"chrom\", \"start\", \"end\", \"name\"])\n",
    "print(bed)\n"
   ],
   "id": "4dce0ce209fb9527"
  },
  {
   "metadata": {},
   "cell_type": "markdown",
   "source": "- **SAM/BAM Formats**: Contain alignments of read data to reference genomes, including mapping scores and alignments.",
   "id": "21e4b5784c278cb3"
  },
  {
   "metadata": {},
   "cell_type": "code",
   "outputs": [],
   "execution_count": null,
   "source": [
    "@SQ SN:chr1 LN:10000\n",
    "seq1    0   chr1    1000    255 10M *   0   0   ACGTAGCTAG  *\n",
    "seq2    0   chr1    1020    255 10M *   0   0   ACGTAGCTAC  *"
   ],
   "id": "d0d94f2186be10ab"
  },
  {
   "metadata": {},
   "cell_type": "code",
   "source": [
    "# have bam, convert it to bam\n",
    "import pysam\n",
    "bamfile = pysam.AlignmentFile(\"../data/example.bam\", \"rb\")\n",
    "for read in bamfile.fetch(\"chr1\", 1000, 2000):\n",
    "    print(read.query_name, read.query_sequence)"
   ],
   "id": "898fc251160e1b47",
   "outputs": [],
   "execution_count": null
  },
  {
   "metadata": {},
   "cell_type": "markdown",
   "source": "- **VCF Format**: Records genomic variants with reference, alternate alleles, and quality scores.",
   "id": "f260f60ccbab0735"
  },
  {
   "metadata": {},
   "cell_type": "code",
   "outputs": [],
   "execution_count": null,
   "source": [
    "##fileformat=VCFv4.2\n",
    "##source=ExampleSource\n",
    "#CHROM POS     ID  REF ALT QUAL FILTER INFO\n",
    "chr1   10176   .   A   AC  50   PASS   DP=20\n",
    "chr1   10352   .   T   TA  60   PASS   DP=25\n",
    "chr1   10616   .   C   G   40   q10    DP=10"
   ],
   "id": "6df5459ca46d0aa9"
  },
  {
   "metadata": {},
   "cell_type": "code",
   "source": [
    "\n",
    "import vcf\n",
    "vcf_reader = vcf.Reader(open(\"../data/vcf_example.vcf\"))\n",
    "for record in vcf_reader:\n",
    "    print(record.CHROM, record.POS, record.REF, record.ALT)"
   ],
   "id": "85d0a47bac7ee46c",
   "outputs": [],
   "execution_count": null
  },
  {
   "metadata": {},
   "cell_type": "markdown",
   "source": "- **Gene Expression Format**: Stores expression values in matrix format (RNA-seq counts).",
   "id": "29491c4e3fc09e"
  },
  {
   "metadata": {},
   "cell_type": "code",
   "outputs": [],
   "execution_count": null,
   "source": [
    "gene    sample1 sample2 sample3\n",
    "gene1   100     150     200\n",
    "gene2   300     250     400\n",
    "gene3   500     450     600"
   ],
   "id": "1630626612feb05f"
  },
  {
   "metadata": {
    "jupyter": {
     "is_executing": true
    }
   },
   "cell_type": "code",
   "source": [
    "import pandas as pd\n",
    "expr = pd.read_csv(\"../data/geneexpression_example.txt\", sep=\"\\s+\", index_col=0)\n",
    "print(expr.head())\n",
    "\n",
    "print(\"Mean expression per sample:\")\n",
    "print(expr.mean())\n"
   ],
   "id": "9bc6a86578554b36",
   "outputs": [],
   "execution_count": null
  },
  {
   "metadata": {},
   "cell_type": "markdown",
   "source": "## Section 2: Bioinformatics Libraries",
   "id": "3be763c1"
  },
  {
   "metadata": {},
   "cell_type": "markdown",
   "source": "### Biopython",
   "id": "71599eee57584508"
  },
  {
   "metadata": {},
   "cell_type": "markdown",
   "source": [
    "#### Example A: Parsing FASTA files & computing GC content\n",
    "- Purpose: Load sequence data from FASTA files and analyze."
   ],
   "id": "3aba880c60cee5ac"
  },
  {
   "metadata": {
    "jupyter": {
     "is_executing": true
    }
   },
   "cell_type": "code",
   "source": [
    "from Bio import SeqIO\n",
    "from Bio.SeqUtils import gc_fraction\n",
    "\n",
    "for record in SeqIO.parse(\"../data/fasta_example.fasta\", \"fasta\"):\n",
    "    gc_content = gc_fraction(record.seq) * 100\n",
    "    print(f\"{record.id}: {gc_content:.2f}% GC\")\n"
   ],
   "id": "22bcef0dfdddff3c",
   "outputs": [],
   "execution_count": null
  },
  {
   "metadata": {},
   "cell_type": "code",
   "outputs": [],
   "execution_count": null,
   "source": [
    "# have bam, convert it to bam\n",
    "import pysam\n",
    "bamfile = pysam.AlignmentFile(\"../data/bam_example.bam\", \"rb\")\n",
    "for read in bamfile.fetch(\"chr1\", 1000, 2000):\n",
    "    print(read.query_name, read.query_sequence)"
   ],
   "id": "f25ea03a9d000fb3"
  },
  {
   "metadata": {},
   "cell_type": "code",
   "outputs": [],
   "execution_count": null,
   "source": [
    "\n",
    "import vcf\n",
    "vcf_reader = vcf.Reader(open(\"../data/vcf_example.vcf\"))\n",
    "for record in vcf_reader:\n",
    "    print(record.CHROM, record.POS, record.REF, record.ALT)"
   ],
   "id": "b7615c9b2b4300bf"
  },
  {
   "metadata": {},
   "cell_type": "markdown",
   "source": [
    "#### Example B: Sequence translation and complement\n",
    "- Purpose: Find Complement, Reverse Complement and Translated Protein"
   ],
   "id": "9501eba90b547ec9"
  },
  {
   "metadata": {},
   "cell_type": "code",
   "source": [
    "\n",
    "from Bio.Seq import Seq\n",
    "\n",
    "sequence = Seq(\"ATGGCGTACGCTAGCTAGCTA\")\n",
    "print(\"Original:\", sequence)\n",
    "print(\"Complement:\", sequence.complement())\n",
    "print(\"Reverse Complement:\", sequence.reverse_complement())\n",
    "print(\"Translated Protein:\", sequence.translate())\n"
   ],
   "id": "74f86550",
   "outputs": [],
   "execution_count": null
  },
  {
   "metadata": {},
   "cell_type": "markdown",
   "source": "### scikit-bio",
   "id": "2fb905dfed51bdca"
  },
  {
   "metadata": {},
   "cell_type": "markdown",
   "source": [
    "#### Example: Pairwise Sequence Alignment\n",
    "- Purpose: Align two sequences to identify similarities."
   ],
   "id": "b3bcaaa1beeeef38"
  },
  {
   "metadata": {},
   "cell_type": "code",
   "outputs": [],
   "execution_count": null,
   "source": [
    "\n",
    "from skbio.alignment import local_pairwise_align_ssw\n",
    "\n",
    "seq1 = \"AGTACACTGGT\"\n",
    "seq2 = \"AGTAGACTGGT\"\n",
    "\n",
    "alignment, score, _ = local_pairwise_align_ssw(seq1, seq2)\n",
    "print(\"Alignment Score:\", score)\n",
    "print(alignment)\n"
   ],
   "id": "dce940f159ecc8f2"
  },
  {
   "metadata": {},
   "cell_type": "markdown",
   "source": "### PyVCF",
   "id": "4fa77df076645c49"
  },
  {
   "metadata": {},
   "cell_type": "markdown",
   "source": [
    "#### Example: Parsing and filtering VCF files\n",
    "- Purpose: Handle and filter genomic variant data."
   ],
   "id": "8b0d5966c93c8267"
  },
  {
   "metadata": {},
   "cell_type": "code",
   "source": [
    "\n",
    "import vcf\n",
    "\n",
    "vcf_reader = vcf.Reader(open(\"../data/vcf_example.vcf\", \"r\"))\n",
    "for record in vcf_reader:\n",
    "    if record.QUAL > 40:\n",
    "        print(f\"{record.CHROM}:{record.POS} {record.REF}->{record.ALT} QUAL:{record.QUAL}\")\n"
   ],
   "id": "a5acdd60",
   "outputs": [],
   "execution_count": null
  },
  {
   "metadata": {},
   "cell_type": "markdown",
   "source": "## Section 3: Practical Tutorials",
   "id": "c027896ed6238195"
  },
  {
   "metadata": {},
   "cell_type": "markdown",
   "source": "### Tutorial 1: Sequence Analysis and Alignment (Biopython & scikit-bio)",
   "id": "a11faca14e86fa06"
  },
  {
   "metadata": {},
   "cell_type": "markdown",
   "source": "#### Step 1: Parse sequences (Biopython)",
   "id": "8bf809c8fca153f"
  },
  {
   "metadata": {},
   "cell_type": "code",
   "outputs": [],
   "execution_count": null,
   "source": [
    "from Bio import SeqIO\n",
    "\n",
    "sequences = list(SeqIO.parse(\"../data/fasta_example.fasta\", \"fasta\"))\n",
    "seq1 = sequences[0].seq\n",
    "seq2 = sequences[1].seq\n",
    "\n",
    "print(f\"Seq1: {seq1}\\nSeq2: {seq2}\")"
   ],
   "id": "4042a3597f4d3dd9"
  },
  {
   "metadata": {},
   "cell_type": "markdown",
   "source": "#### Step 2: Perform Alignment (scikit-bio)",
   "id": "2e613abe77e03b57"
  },
  {
   "metadata": {},
   "cell_type": "code",
   "outputs": [],
   "execution_count": null,
   "source": [
    "from skbio.alignment import local_pairwise_align_ssw\n",
    "\n",
    "alignment, score, _ = local_pairwise_align_ssw(seq1, seq2)\n",
    "\n",
    "print(\"Alignment Score:\", score)\n",
    "print(alignment)"
   ],
   "id": "ce37d996b08bca26"
  },
  {
   "metadata": {},
   "cell_type": "markdown",
   "source": "#### Step 3: Visualization (Simple Matplotlib Example)",
   "id": "754148d406f0b6eb"
  },
  {
   "metadata": {},
   "cell_type": "code",
   "outputs": [],
   "execution_count": null,
   "source": [
    "import matplotlib.pyplot as plt\n",
    "\n",
    "scores = [alignment[0].score, alignment[1].score]\n",
    "labels = [\"Sequence 1\", \"Sequence 2\"]\n",
    "\n",
    "plt.bar(labels, scores)\n",
    "plt.ylabel('Alignment Score')\n",
    "plt.title('Pairwise Alignment Scores')\n",
    "plt.show()"
   ],
   "id": "d9b40602175a95c3"
  },
  {
   "metadata": {},
   "cell_type": "markdown",
   "source": "## Section 4: Visualization and Interactive Analysis",
   "id": "2ab8de1ea384bd6"
  },
  {
   "metadata": {},
   "cell_type": "markdown",
   "source": [
    "### Example A: Sequence Alignment Visualization (matplotlib)\n",
    "Purpose: Visualize simple alignment scores as a bar plot."
   ],
   "id": "e4da4d9aa2959684"
  },
  {
   "metadata": {},
   "cell_type": "code",
   "outputs": [],
   "execution_count": null,
   "source": [
    "import matplotlib.pyplot as plt\n",
    "\n",
    "# Example data\n",
    "labels = ['Seq1 vs Seq2', 'Seq1 vs Seq3', 'Seq2 vs Seq3']\n",
    "scores = [90, 75, 85]\n",
    "\n",
    "# Plot\n",
    "plt.bar(labels, scores)\n",
    "plt.ylabel('Alignment Score')\n",
    "plt.title('Sequence Alignment Scores')\n",
    "plt.show()"
   ],
   "id": "2ef19ba529ef1d83"
  },
  {
   "metadata": {},
   "cell_type": "markdown",
   "source": [
    "### Example B: Variant Quality Distribution (seaborn)\n",
    "Purpose: Visualize variant quality scores from a VCF file.\n"
   ],
   "id": "c53dc8c2c29cad4"
  },
  {
   "metadata": {},
   "cell_type": "code",
   "outputs": [],
   "execution_count": null,
   "source": [
    "import seaborn as sns\n",
    "import matplotlib.pyplot as plt\n",
    "import vcf\n",
    "\n",
    "vcf_reader = vcf.Reader(open('../data/vcf_example.vcf'))\n",
    "quals = [record.QUAL for record in vcf_reader]\n",
    "\n",
    "sns.histplot(quals, kde=True)\n",
    "plt.xlabel('Variant Quality Score')\n",
    "plt.title('Distribution of Variant Quality Scores')\n",
    "plt.show()"
   ],
   "id": "9a69782dd12bb0ff"
  },
  {
   "metadata": {},
   "cell_type": "markdown",
   "source": [
    "### Example C: Interactive Volcano Plot (plotly)\n",
    "Purpose: Interactively visualize RNA-seq results.\n"
   ],
   "id": "cbc550f400e9c1ea"
  },
  {
   "metadata": {},
   "cell_type": "code",
   "outputs": [],
   "execution_count": null,
   "source": [
    "import plotly.express as px\n",
    "import pandas as pd\n",
    "\n",
    "df = pd.DataFrame({\n",
    "    'gene': ['gene1', 'gene2', 'gene3', 'gene4', 'gene5'],\n",
    "    'log2FoldChange': [2.0, -1.5, 0.8, -2.1, 1.2],\n",
    "    'pvalue': [0.01, 0.03, 0.2, 0.001, 0.05]\n",
    "})\n",
    "\n",
    "fig = px.scatter(df,\n",
    "                 x='log2FoldChange',\n",
    "                 y=-np.log10(df['pvalue']),\n",
    "                 hover_name='gene',\n",
    "                 color=df['pvalue'] < 0.05,\n",
    "                 title='Interactive Volcano Plot')\n",
    "\n",
    "fig.show()"
   ],
   "id": "130a9578ac9c524"
  }
 ],
 "metadata": {},
 "nbformat": 4,
 "nbformat_minor": 5
}
