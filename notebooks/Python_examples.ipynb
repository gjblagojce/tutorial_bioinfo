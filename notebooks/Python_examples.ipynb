{
 "cells": [
  {
   "metadata": {},
   "cell_type": "markdown",
   "source": "# Python Bioinformatics Notebook",
   "id": "f4955991"
  },
  {
   "metadata": {},
   "cell_type": "code",
   "outputs": [],
   "execution_count": null,
   "source": [
    "\n",
    "# To be run in terminal, not notebook:\n",
    "# conda create -n bioinfo python=3.11\n",
    "# conda activate bioinfo\n",
    "# conda install -c conda-forge biopython scikit-bio numpy pandas matplotlib jupyter\n",
    "# pip install PyVCF\n"
   ],
   "id": "14b7a8b1"
  },
  {
   "metadata": {},
   "cell_type": "markdown",
   "source": "## Check environment",
   "id": "ba5f96f1"
  },
  {
   "metadata": {},
   "cell_type": "code",
   "outputs": [],
   "execution_count": null,
   "source": [
    "import Bio\n",
    "import skbio\n",
    "import numpy\n",
    "import pandas\n",
    "import matplotlib\n",
    "import vcfpy\n",
    "\n",
    "print(\"All Python packages successfully installed.\")"
   ],
   "id": "7565dae885a91681"
  },
  {
   "metadata": {},
   "cell_type": "markdown",
   "source": [
    "## Section 1: Bioinformatics Data Formats\n",
    "\n",
    "In bioinformatics, data comes in specialized file formats designed to handle biological sequences, annotations, genomic alignments, variant information, and gene expression data. Here are the most important formats:\n",
    "\n"
   ],
   "id": "fb315aad2f905f1c"
  },
  {
   "metadata": {},
   "cell_type": "markdown",
   "source": "- **FASTA Format**: Stores nucleotide or protein sequences",
   "id": "95a62e0e40ebaeb"
  },
  {
   "metadata": {},
   "cell_type": "code",
   "outputs": [],
   "execution_count": null,
   "source": [
    ">gene1_human\n",
    "ATGGCGTACGCTAGCTAGCTA\n",
    ">gene2_mouse\n",
    "ATGCTAGCTAGCTAGTGACTG"
   ],
   "id": "561d15681542531e"
  },
  {
   "metadata": {
    "jupyter": {
     "is_executing": true
    }
   },
   "cell_type": "code",
   "source": [
    "#count of sequences\n",
    "from Bio import SeqIO\n",
    "for record in SeqIO.parse(\"../data/fasta_example.fasta\", \"fasta\"):\n",
    "    print(record.id, record.seq)\n"
   ],
   "id": "564ec3a2",
   "outputs": [],
   "execution_count": null
  },
  {
   "metadata": {},
   "cell_type": "markdown",
   "source": "- **FASTQ Format**: Stores sequencing reads and their quality scores from sequencing machines.\n",
   "id": "5e4c05b969682f81"
  },
  {
   "metadata": {},
   "cell_type": "code",
   "outputs": [],
   "execution_count": null,
   "source": [
    "@SEQ_ID_1\n",
    "GATCTGACTGACTG\n",
    "+\n",
    "IIIIIIIIIIIIIH\n",
    "@SEQ_ID_2\n",
    "ATCGATCGTAGCTA\n",
    "+\n",
    "IIIIIIIHHHHHHG"
   ],
   "id": "1296e7f50b2edd2c"
  },
  {
   "metadata": {
    "jupyter": {
     "is_executing": true
    }
   },
   "cell_type": "code",
   "source": [
    "\n",
    "from Bio import SeqIO\n",
    "for record in SeqIO.parse(\"../data/fastq_example.fastq\", \"fastq\"):\n",
    "    print(record.id, record.seq, record.letter_annotations[\"phred_quality\"])\n"
   ],
   "id": "8a8a30cf",
   "outputs": [],
   "execution_count": null
  },
  {
   "metadata": {},
   "cell_type": "markdown",
   "source": "- **GenBank Format**: Stores sequences and their annotations, such as gene locations and organism information.",
   "id": "b93293ebe4d39acd"
  },
  {
   "metadata": {},
   "cell_type": "code",
   "outputs": [],
   "execution_count": null,
   "source": [
    "LOCUS       SCU49845     25 bp    DNA             PLN       21-JUN-1999\n",
    "DEFINITION  Example GenBank entry.\n",
    "ACCESSION   SCU49845\n",
    "VERSION     SCU49845.1\n",
    "KEYWORDS    .\n",
    "SOURCE      Artificial Sequence\n",
    "  ORGANISM  Artificial Sequence\n",
    "            .\n",
    "FEATURES             Location/Qualifiers\n",
    "     gene            1..10\n",
    "                     /gene=\"example_gene\"\n",
    "ORIGIN\n",
    "        1 atggcgtaaa tagctagcta ctagc\n",
    "//"
   ],
   "id": "15b84cfcada3dac5"
  },
  {
   "metadata": {},
   "cell_type": "code",
   "source": [
    "\n",
    "from Bio import SeqIO\n",
    "record = SeqIO.read(\"../data/gb_example.gb\", \"genbank\")\n",
    "print(record.annotations)\n",
    "for feature in record.features:\n",
    "    print(feature.type, feature.location)\n"
   ],
   "id": "5783f541",
   "outputs": [],
   "execution_count": null
  },
  {
   "metadata": {},
   "cell_type": "markdown",
   "source": "- **GFF/GTF/BED Formats**: Define genomic feature locations, like gene start and end positions.",
   "id": "36822a4c857bc52a"
  },
  {
   "metadata": {},
   "cell_type": "code",
   "outputs": [],
   "execution_count": null,
   "source": [
    "chr1    1000    5000    Gene1\n",
    "chr2    7000    9000    Gene2\n",
    "chr3    10000\t11000    Gene2"
   ],
   "id": "75545af5e79947af"
  },
  {
   "metadata": {},
   "cell_type": "code",
   "outputs": [],
   "execution_count": null,
   "source": [
    "import pandas as pd\n",
    "\n",
    "bed = pd.read_csv(\"../data/bed_example.bed\", sep=\"\\t\", header=None,\n",
    "                  names=[\"chrom\", \"start\", \"end\", \"name\"])\n",
    "print(bed)\n"
   ],
   "id": "4dce0ce209fb9527"
  },
  {
   "metadata": {},
   "cell_type": "markdown",
   "source": "- **SAM/BAM Formats**: Contain alignments of read data to reference genomes, including mapping scores and alignments.",
   "id": "21e4b5784c278cb3"
  },
  {
   "metadata": {},
   "cell_type": "code",
   "outputs": [],
   "execution_count": null,
   "source": [
    "@SQ SN:chr1 LN:10000\n",
    "seq1    0   chr1    1000    255 10M *   0   0   ACGTAGCTAG  *\n",
    "seq2    0   chr1    1020    255 10M *   0   0   ACGTAGCTAC  *"
   ],
   "id": "d0d94f2186be10ab"
  },
  {
   "metadata": {},
   "cell_type": "code",
   "outputs": [],
   "execution_count": null,
   "source": "!samtools view -S -b ../data/sam_example.sam > ../data/bam_example.bam",
   "id": "f65ecc3bfceba6db"
  },
  {
   "metadata": {},
   "cell_type": "code",
   "outputs": [],
   "execution_count": null,
   "source": "!samtools index ../data/bam_example.bam",
   "id": "5b234be56154e0d5"
  },
  {
   "metadata": {},
   "cell_type": "code",
   "source": [
    "# have bam, convert it to bam\n",
    "import pysam\n",
    "bamfile = pysam.AlignmentFile(\"../data/bam_example.bam\", \"rb\")\n",
    "for read in bamfile.fetch(\"chr1\", 1000, 2000):\n",
    "    print(read.query_name, read.query_sequence)"
   ],
   "id": "898fc251160e1b47",
   "outputs": [],
   "execution_count": null
  },
  {
   "metadata": {},
   "cell_type": "markdown",
   "source": "- **VCF Format**: Records genomic variants with reference, alternate alleles, and quality scores.",
   "id": "f260f60ccbab0735"
  },
  {
   "metadata": {},
   "cell_type": "code",
   "outputs": [],
   "execution_count": null,
   "source": [
    "##fileformat=VCFv4.2\n",
    "##source=ExampleSource\n",
    "#CHROM POS     ID  REF ALT QUAL FILTER INFO\n",
    "chr1   10176   .   A   AC  50   PASS   DP=20\n",
    "chr1   10352   .   T   TA  60   PASS   DP=25\n",
    "chr1   10616   .   C   G   40   q10    DP=10"
   ],
   "id": "6df5459ca46d0aa9"
  },
  {
   "metadata": {},
   "cell_type": "code",
   "source": [
    "\n",
    "import vcfpy\n",
    "\n",
    "# Open the VCF file\n",
    "reader = vcfpy.Reader.from_path(\"../data/vcf_example.vcf\")\n",
    "\n",
    "# Iterate through records\n",
    "for record in reader:\n",
    "    print(record.CHROM, record.POS, record.REF, [str(alt) for alt in record.ALT])"
   ],
   "id": "85d0a47bac7ee46c",
   "outputs": [],
   "execution_count": null
  },
  {
   "metadata": {},
   "cell_type": "markdown",
   "source": "- **Gene Expression Format**: Stores expression values in matrix format (RNA-seq counts).",
   "id": "29491c4e3fc09e"
  },
  {
   "metadata": {},
   "cell_type": "code",
   "outputs": [],
   "execution_count": null,
   "source": [
    "gene    sample1 sample2 sample3\n",
    "gene1   100     150     200\n",
    "gene2   300     250     400\n",
    "gene3   500     450     600"
   ],
   "id": "1630626612feb05f"
  },
  {
   "metadata": {
    "jupyter": {
     "is_executing": true
    }
   },
   "cell_type": "code",
   "source": [
    "import pandas as pd\n",
    "expr = pd.read_csv(\"../data/geneexpression_example.txt\", sep=\"\\s+\", index_col=0)\n",
    "print(expr.head())\n",
    "\n",
    "print(\"Mean expression per sample:\")\n",
    "print(expr.mean())\n"
   ],
   "id": "9bc6a86578554b36",
   "outputs": [],
   "execution_count": null
  },
  {
   "metadata": {},
   "cell_type": "markdown",
   "source": "## Section 2: Bioinformatics Libraries",
   "id": "3be763c1"
  },
  {
   "metadata": {},
   "cell_type": "markdown",
   "source": "### Biopython",
   "id": "71599eee57584508"
  },
  {
   "metadata": {},
   "cell_type": "markdown",
   "source": [
    "#### Example A: Parsing FASTA files & computing GC content\n",
    "- Purpose: Load sequence data from FASTA files and analyze."
   ],
   "id": "3aba880c60cee5ac"
  },
  {
   "metadata": {
    "jupyter": {
     "is_executing": true
    }
   },
   "cell_type": "code",
   "source": [
    "from Bio import SeqIO\n",
    "from Bio.SeqUtils import gc_fraction\n",
    "\n",
    "for record in SeqIO.parse(\"../data/fasta_example.fasta\", \"fasta\"):\n",
    "    gc_content = gc_fraction(record.seq) * 100\n",
    "    print(f\"{record.id}: {gc_content:.2f}% GC\")\n"
   ],
   "id": "22bcef0dfdddff3c",
   "outputs": [],
   "execution_count": null
  },
  {
   "metadata": {},
   "cell_type": "code",
   "outputs": [],
   "execution_count": null,
   "source": [
    "# have bam, convert it to bam\n",
    "import pysam\n",
    "bamfile = pysam.AlignmentFile(\"../data/bam_example.bam\", \"rb\")\n",
    "for read in bamfile.fetch(\"chr1\", 1000, 2000):\n",
    "    print(read.query_name, read.query_sequence)"
   ],
   "id": "f25ea03a9d000fb3"
  },
  {
   "metadata": {},
   "cell_type": "code",
   "outputs": [],
   "execution_count": null,
   "source": [
    "\n",
    "import vcfpy\n",
    "\n",
    "reader = vcfpy.Reader.from_path(\"../data/vcf_example.vcf\")\n",
    "for record in reader:\n",
    "    alt_alleles = [alt.value for alt in record.ALT]  # extract alt allele strings\n",
    "    print(record.CHROM, record.POS, record.REF, alt_alleles)\n"
   ],
   "id": "b7615c9b2b4300bf"
  },
  {
   "metadata": {},
   "cell_type": "markdown",
   "source": [
    "#### Example B: Sequence translation and complement\n",
    "- Purpose: Find Complement, Reverse Complement and Translated Protein"
   ],
   "id": "9501eba90b547ec9"
  },
  {
   "metadata": {},
   "cell_type": "code",
   "source": [
    "\n",
    "from Bio.Seq import Seq\n",
    "\n",
    "sequence = Seq(\"ATGGCGTACGCTAGCTAGCTA\")\n",
    "print(\"Original:\", sequence)\n",
    "print(\"Complement:\", sequence.complement())\n",
    "print(\"Reverse Complement:\", sequence.reverse_complement())\n",
    "print(\"Translated Protein:\", sequence.translate())\n"
   ],
   "id": "74f86550",
   "outputs": [],
   "execution_count": null
  },
  {
   "metadata": {},
   "cell_type": "markdown",
   "source": "### scikit-bio",
   "id": "2fb905dfed51bdca"
  },
  {
   "metadata": {},
   "cell_type": "markdown",
   "source": [
    "#### Example: Pairwise Sequence Alignment\n",
    "- Purpose: Align two sequences to identify similarities."
   ],
   "id": "b3bcaaa1beeeef38"
  },
  {
   "metadata": {},
   "cell_type": "code",
   "outputs": [],
   "execution_count": null,
   "source": [
    "\n",
    "from skbio import DNA, read\n",
    "from skbio.alignment import local_pairwise_align_ssw\n",
    "\n",
    "# Read two sequences from the FASTA file\n",
    "sequences = list(read(\"../data/fasta_example.fasta\", format=\"fasta\", constructor=DNA))\n",
    "\n",
    "# Assign the sequences\n",
    "seq1 = sequences[0]\n",
    "seq2 = sequences[1]\n",
    "\n",
    "# Run alignment\n",
    "alignment, score, _ = local_pairwise_align_ssw(seq1, seq2)\n",
    "\n",
    "# Output\n",
    "print(\"Alignment Score:\", score)\n",
    "print(alignment)\n"
   ],
   "id": "dce940f159ecc8f2"
  },
  {
   "metadata": {},
   "cell_type": "markdown",
   "source": "### vcfpy",
   "id": "4fa77df076645c49"
  },
  {
   "metadata": {},
   "cell_type": "markdown",
   "source": [
    "#### Example: Parsing and filtering VCF files\n",
    "- Purpose: Handle and filter genomic variant data."
   ],
   "id": "8b0d5966c93c8267"
  },
  {
   "metadata": {},
   "cell_type": "code",
   "source": [
    "\n",
    "import vcfpy\n",
    "\n",
    "# Open the VCF file using vcfpy\n",
    "reader = vcfpy.Reader.from_path(\"../data/vcf_example.vcf\")\n",
    "\n",
    "# Loop through records and filter by QUAL > 40\n",
    "for record in reader:\n",
    "    if record.QUAL is not None and record.QUAL > 40:\n",
    "        alt_alleles = \",\".join(alt.value for alt in record.ALT)\n",
    "        print(f\"{record.CHROM}:{record.POS} {record.REF}->{alt_alleles} QUAL:{record.QUAL}\")\n"
   ],
   "id": "a5acdd60",
   "outputs": [],
   "execution_count": null
  },
  {
   "metadata": {},
   "cell_type": "markdown",
   "source": "## Section 3: Practical Tutorials",
   "id": "c027896ed6238195"
  },
  {
   "metadata": {},
   "cell_type": "markdown",
   "source": "### Tutorial 1: Sequence Analysis and Alignment (Biopython & scikit-bio)",
   "id": "a11faca14e86fa06"
  },
  {
   "metadata": {},
   "cell_type": "code",
   "outputs": [],
   "execution_count": null,
   "source": [
    "from skbio import read, DNA\n",
    "from skbio.alignment import local_pairwise_align_ssw\n",
    "import matplotlib.pyplot as plt\n",
    "import pandas as pd\n",
    "import numpy as np\n",
    "\n",
    "# ---- Step 1: Load sequences from FASTA ----\n",
    "fasta_file = \"../data/fasta_example.fasta\"\n",
    "sequences = list(read(fasta_file, format=\"fasta\", constructor=DNA))\n",
    "names = [seq.metadata['id'] for seq in sequences]\n",
    "\n",
    "# Print first two for reference\n",
    "print(\"\\n----Step 1: Parse sequences ----\")\n",
    "print(f\"Seq1 ({names[0]}): {sequences[0]}\")\n",
    "print(f\"Seq2 ({names[1]}): {sequences[1]}\")\n",
    "\n",
    "# ---- Step 2: Perform all pairwise alignments ----\n",
    "print(\"\\n----Step 2: Perform all pairwise alignments ----\")\n",
    "score_matrix = pd.DataFrame(index=names, columns=names, dtype=int)\n",
    "alignment_details = {}\n",
    "\n",
    "for i, seq1 in enumerate(sequences):\n",
    "    for j, seq2 in enumerate(sequences):\n",
    "        if i <= j:\n",
    "            alignment, score, _ = local_pairwise_align_ssw(seq1, seq2)\n",
    "            score_matrix.iloc[i, j] = score\n",
    "            score_matrix.iloc[j, i] = score  # symmetric\n",
    "            if i == 0 and j == 1:\n",
    "                # Save alignment of first pair for display\n",
    "                alignment_details = {\n",
    "                    \"score\": score,\n",
    "                    \"alignment\": alignment\n",
    "                }\n",
    "\n",
    "# ---- Step 3: Display score matrix ----\n",
    "print(\"\\n----Step 3: Pairwise Alignment Score Matrix ----\")\n",
    "print(score_matrix)\n",
    "\n",
    "# ---- Step 4: Show example alignment (Seq1 vs Seq2) ----\n",
    "print(\"\\n----Step 4: Example Alignment (First Two Sequences) ----\")\n",
    "print(f\"Alignment Score: {alignment_details['score']}\")\n",
    "for seq in alignment_details['alignment']:\n",
    "    print(seq)\n",
    "\n",
    "# ---- Step 5: Plot score matrix as heatmap ----\n",
    "print(\"\\n----Step 5: Plot score matrix as heatmap ----\")\n",
    "plt.figure(figsize=(8, 6))\n",
    "plt.imshow(score_matrix.astype(float), cmap=\"Blues\", interpolation=\"nearest\")\n",
    "plt.colorbar(label=\"Alignment Score\")\n",
    "plt.xticks(ticks=np.arange(len(names)), labels=names, rotation=45)\n",
    "plt.yticks(ticks=np.arange(len(names)), labels=names)\n",
    "plt.title(\"Pairwise Alignment Score Heatmap\")\n",
    "plt.tight_layout()\n",
    "plt.show()\n"
   ],
   "id": "4042a3597f4d3dd9"
  },
  {
   "metadata": {},
   "cell_type": "markdown",
   "source": "## Section 4: Visualization and Interactive Analysis",
   "id": "2ab8de1ea384bd6"
  },
  {
   "metadata": {},
   "cell_type": "markdown",
   "source": [
    "### Example A: Sequence Alignment Visualization (matplotlib)\n",
    "Purpose: Visualize simple alignment scores as a bar plot."
   ],
   "id": "e4da4d9aa2959684"
  },
  {
   "metadata": {},
   "cell_type": "code",
   "outputs": [],
   "execution_count": null,
   "source": [
    "from skbio import read, DNA\n",
    "from skbio.alignment import local_pairwise_align_ssw\n",
    "import matplotlib.pyplot as plt\n",
    "import itertools\n",
    "\n",
    "# ---- Step 1: Read sequences from FASTA ----\n",
    "fasta_file = \"../data/fasta_example.fasta\"  # Update if needed\n",
    "sequences = list(read(fasta_file, format=\"fasta\", constructor=DNA))\n",
    "names = [seq.metadata['id'] for seq in sequences]\n",
    "\n",
    "# ---- Step 2: Perform pairwise alignments ----\n",
    "pairs = list(itertools.combinations(enumerate(sequences), 2))  # all unique pairs\n",
    "labels = []\n",
    "scores = []\n",
    "\n",
    "for (i, seq1), (j, seq2) in pairs:\n",
    "    alignment, score, _ = local_pairwise_align_ssw(seq1, seq2)\n",
    "    label = f\"{names[i]} vs {names[j]}\"\n",
    "    labels.append(label)\n",
    "    scores.append(score)\n",
    "\n",
    "# ---- Step 3: Plot ----\n",
    "plt.figure(figsize=(8, 5))\n",
    "plt.bar(labels, scores, color=\"skyblue\", edgecolor=\"black\")\n",
    "plt.ylabel(\"Alignment Score\")\n",
    "plt.title(\"Sequence Alignment Scores\")\n",
    "plt.xticks(rotation=45)\n",
    "plt.tight_layout()\n",
    "plt.show()"
   ],
   "id": "2ef19ba529ef1d83"
  },
  {
   "metadata": {},
   "cell_type": "markdown",
   "source": [
    "### Example B: Variant Quality Distribution (seaborn)\n",
    "Purpose: Visualize variant quality scores from a VCF file.\n"
   ],
   "id": "c53dc8c2c29cad4"
  },
  {
   "metadata": {},
   "cell_type": "code",
   "outputs": [],
   "execution_count": null,
   "source": [
    "import seaborn as sns\n",
    "import matplotlib.pyplot as plt\n",
    "import vcfpy\n",
    "\n",
    "# Open and parse the VCF file\n",
    "reader = vcfpy.Reader.from_path(\"../data/vcf_example.vcf\")\n",
    "quals = [record.QUAL for record in reader if record.QUAL is not None]\n",
    "\n",
    "# Plot the distribution of quality scores\n",
    "sns.histplot(quals, kde=True)\n",
    "plt.xlabel('Variant Quality Score')\n",
    "plt.title('Distribution of Variant Quality Scores')\n",
    "plt.show()"
   ],
   "id": "9a69782dd12bb0ff"
  },
  {
   "metadata": {},
   "cell_type": "markdown",
   "source": [
    "### Example C: Interactive Volcano Plot (plotly)\n",
    "Purpose: Interactively visualize RNA-seq results.\n"
   ],
   "id": "cbc550f400e9c1ea"
  },
  {
   "metadata": {},
   "cell_type": "code",
   "outputs": [],
   "execution_count": null,
   "source": [
    "import pandas as pd\n",
    "import numpy as np\n",
    "import plotly.express as px\n",
    "\n",
    "# Load gene expression results\n",
    "df = pd.read_csv(\"../data/example_gene_expression.csv\")\n",
    "\n",
    "# Compute -log10 p-values\n",
    "df['neg_log10_pval'] = -np.log10(df['pvalue'])\n",
    "\n",
    "# Define significance based on padj and log2FC thresholds\n",
    "df['significance'] = 'Not Significant'\n",
    "df.loc[(df['padj'] < 0.05) & (df['log2FoldChange'] > 1), 'significance'] = 'Upregulated'\n",
    "df.loc[(df['padj'] < 0.05) & (df['log2FoldChange'] < -1), 'significance'] = 'Downregulated'\n",
    "\n",
    "# Volcano plot\n",
    "fig = px.scatter(df,\n",
    "                 x='log2FoldChange',\n",
    "                 y='neg_log10_pval',\n",
    "                 color='significance',\n",
    "                 hover_name='gene',\n",
    "                 title='Interactive Volcano Plot',\n",
    "                 labels={\n",
    "                     'log2FoldChange': 'log2(Fold Change)',\n",
    "                     'neg_log10_pval': '-log10(p-value)',\n",
    "                     'significance': 'Regulation Status'\n",
    "                 },\n",
    "                 color_discrete_map={\n",
    "                     'Upregulated': 'red',\n",
    "                     'Downregulated': 'blue',\n",
    "                     'Not Significant': 'gray'\n",
    "                 })\n",
    "\n",
    "fig.update_traces(marker=dict(size=10, line=dict(width=0.5, color='DarkSlateGrey')))\n",
    "fig.show()"
   ],
   "id": "130a9578ac9c524"
  }
 ],
 "metadata": {},
 "nbformat": 4,
 "nbformat_minor": 5
}
