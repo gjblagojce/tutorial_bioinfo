{
 "cells": [
  {
   "metadata": {},
   "cell_type": "markdown",
   "source": [
    "# 🧠 Tips & Tricks for Efficient Bioinformatics Workflows\n",
    "\n",
    "This notebook collects helpful techniques for working with large datasets in bioinformatics, focusing on:\n",
    "- Efficient reading and writing of sequence files\n",
    "- Avoiding memory overloads\n",
    "- Indexing and performance best practices\n",
    "- Remote fetching and caching strategies"
   ],
   "id": "ab6d6a4047123459"
  },
  {
   "metadata": {},
   "cell_type": "markdown",
   "source": "## 1️⃣ Indexing a FASTQ File for Fast Access",
   "id": "133da5d8e42aa7fd"
  },
  {
   "metadata": {},
   "cell_type": "markdown",
   "source": "We’ll use a real but small FASTQ file to demonstrate indexing. This speeds up record lookup significantly after an initial indexing step.",
   "id": "a99236e8cce19d83"
  },
  {
   "metadata": {
    "trusted": true
   },
   "cell_type": "code",
   "outputs": [],
   "execution_count": null,
   "source": "!wget -O example_indexing.fastq \"https://zenodo.org/records/3736457/files/9_Swamp_S2B_rbcLa_2019_minq7.fastq?download=1\"",
   "id": "2a71d143f7acbf38"
  },
  {
   "metadata": {},
   "cell_type": "markdown",
   "source": [
    "### ⏱️ Accessing a Record Without Indexing\n",
    "Looping through the file manually to find a record is inefficient. Let's measure the time it takes."
   ],
   "id": "ae3bdec67c476af2"
  },
  {
   "metadata": {
    "trusted": true
   },
   "cell_type": "code",
   "outputs": [],
   "execution_count": null,
   "source": [
    "from Bio import SeqIO\n",
    "import time\n",
    "\n",
    "query_id = \"fe14d233-7576-4532-a2e7-5072ea5ec63c\"\n",
    "record = None\n",
    "\n",
    "start = time.perf_counter()\n",
    "with open(\"example_indexing.fastq\") as handle:\n",
    "    for r in SeqIO.parse(handle, \"fastq\"):\n",
    "        if r.id == query_id:\n",
    "            record = r\n",
    "            break\n",
    "elapsed = time.perf_counter() - start\n",
    "\n",
    "print(f\"⏱️ Time without indexing: {elapsed:.6f} seconds\")\n",
    "print(\"Sequence preview:\", record.seq[:50])"
   ],
   "id": "577dd5aa53558dd8"
  },
  {
   "metadata": {},
   "cell_type": "markdown",
   "source": [
    "### 🧱 Indexing a FASTQ File\n",
    "`SeqIO.index()` creates a dictionary-like index of all records in the file, allowing fast access by ID.\n",
    "\n",
    "Indexing takes a bit of time up front but can dramatically reduce lookup times."
   ],
   "id": "a503595bd8828d38"
  },
  {
   "metadata": {
    "trusted": true
   },
   "cell_type": "code",
   "outputs": [],
   "execution_count": null,
   "source": [
    "# Indexing the file for fast access\n",
    "start = time.perf_counter()\n",
    "fq_index = SeqIO.index(\"example_indexing.fastq\", \"fastq\")\n",
    "elapsed = time.perf_counter() - start\n",
    "print(f\"✅ Indexed FASTQ in {elapsed:.4f} seconds\")"
   ],
   "id": "f06a61addc13e656"
  },
  {
   "metadata": {},
   "cell_type": "markdown",
   "source": [
    "### ⚡ Accessing a Record Using the Index\n",
    "Once the FASTQ file is indexed, we can retrieve a sequence in constant time.\n",
    "\n",
    "Here we access the same record and compare timing with the previous unindexed approach."
   ],
   "id": "2d466a7ec7e38365"
  },
  {
   "metadata": {
    "trusted": true
   },
   "cell_type": "code",
   "outputs": [],
   "execution_count": null,
   "source": [
    "# Access the same record by ID using the index\n",
    "start = time.perf_counter()\n",
    "record = fq_index[query_id]\n",
    "elapsed = time.perf_counter() - start\n",
    "\n",
    "print(f\"⚡ Indexed access time: {elapsed:.6f} seconds\")\n",
    "print(\"Sequence preview:\", record.seq[:50])"
   ],
   "id": "daab8ee9ba4cd8fa"
  },
  {
   "metadata": {},
   "cell_type": "markdown",
   "source": "## 2️⃣ Iterate Over FASTQ Without Loading Everything",
   "id": "cff30497d6510fb1"
  },
  {
   "metadata": {},
   "cell_type": "markdown",
   "source": "Using `SeqIO.parse()` avoids memory issues when looping over large files.",
   "id": "11f10f254c50925"
  },
  {
   "metadata": {
    "trusted": true
   },
   "cell_type": "code",
   "outputs": [],
   "execution_count": null,
   "source": [
    "# Efficient iteration without loading everything into memory\n",
    "start = time.perf_counter()\n",
    "for i, rec in enumerate(SeqIO.parse(\"example_indexing.fastq\", \"fastq\")):\n",
    "    if i == 1000:\n",
    "        break\n",
    "elapsed = time.perf_counter() - start\n",
    "print(f\"Iterated over 1000 records in {elapsed:.4f} seconds\")"
   ],
   "id": "93273561b5689694"
  },
  {
   "metadata": {},
   "cell_type": "markdown",
   "source": "## 3️⃣ Write Records in Batches Instead of One-by-One",
   "id": "91fa2c6d034fb982"
  },
  {
   "metadata": {
    "trusted": true
   },
   "cell_type": "code",
   "outputs": [],
   "execution_count": null,
   "source": [
    "from Bio import SeqIO\n",
    "subset = list(SeqIO.parse(\"example_indexing.fastq\", \"fastq\"))[:100]\n",
    "SeqIO.write(subset, \"subset.fastq\", \"fastq\")\n",
    "print(\"Wrote 100 records to 'subset.fastq'\")"
   ],
   "id": "bae700d4e96b967a"
  },
  {
   "metadata": {},
   "cell_type": "markdown",
   "source": "## 4️⃣ Avoid `SeqIO.to_dict()` on Large Files",
   "id": "a0cfb4b3078d9b4d"
  },
  {
   "metadata": {
    "trusted": true
   },
   "cell_type": "code",
   "outputs": [],
   "execution_count": null,
   "source": [
    "small_subset = list(SeqIO.parse(\"example_indexing.fastq\", \"fastq\"))[:50]\n",
    "dict_subset = SeqIO.to_dict(small_subset)\n",
    "print(f\"Built dictionary of {len(dict_subset)} sequences\")"
   ],
   "id": "e19c40289fb5709d"
  }
 ],
 "metadata": {
  "kernelspec": {
   "display_name": "Python 3",
   "language": "python",
   "name": "python3"
  },
  "language_info": {
   "codemirror_mode": {
    "name": "ipython",
    "version": 2
   },
   "file_extension": ".py",
   "mimetype": "text/x-python",
   "name": "python",
   "nbconvert_exporter": "python",
   "pygments_lexer": "ipython2",
   "version": "2.7.6"
  }
 },
 "nbformat": 4,
 "nbformat_minor": 5
}
