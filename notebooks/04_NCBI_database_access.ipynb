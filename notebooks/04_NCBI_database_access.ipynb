{
 "cells": [
  {
   "metadata": {},
   "cell_type": "markdown",
   "source": [
    "# 🔎 Accessing NCBI Databases with Biopython\n",
    "\n",
    "This notebook demonstrates how to use Biopython's `Entrez` module to access biological data from the **NCBI (National Center for Biotechnology Information)**.\n",
    "\n",
    "We'll:\n",
    "- Explore available databases\n",
    "- Search for the **BRCA1** gene in **Homo sapiens**\n",
    "- Fetch nucleotide sequence records\n",
    "- Save results locally to avoid repeated querying\n"
   ],
   "id": "c63d4b03f205c19d"
  },
  {
   "metadata": {},
   "cell_type": "markdown",
   "source": "## 📡 Step 1: Setup Entrez and Required Modules",
   "id": "4ec30b45057f1e26"
  },
  {
   "metadata": {},
   "cell_type": "code",
   "outputs": [],
   "execution_count": null,
   "source": [
    "from Bio import Entrez, SeqIO\n",
    "Entrez.email = \"your.email@example.com\"  # Replace with your real email (required by NCBI policies)\n",
    "#Entrez.api_key = \"<YOUR API KEY HERE>\" #Optional"
   ],
   "id": "7f2f9656facaad45"
  },
  {
   "metadata": {},
   "cell_type": "markdown",
   "source": "## 📚 Step 2: View Available NCBI Databases",
   "id": "a35b0a170647045c"
  },
  {
   "metadata": {},
   "cell_type": "code",
   "outputs": [],
   "execution_count": null,
   "source": [
    "handle = Entrez.einfo()\n",
    "record = Entrez.read(handle)\n",
    "databases = record['DbList']\n",
    "print(\"Total databases:\", len(databases))\n",
    "print(databases, \"...\")"
   ],
   "id": "3ca9f90e2720638"
  },
  {
   "metadata": {},
   "cell_type": "markdown",
   "source": [
    "## 🔍 Step 3: Search for BRCA1 Gene in Humans\n",
    "We'll use the **nucleotide** database to search for BRCA1 gene sequences."
   ],
   "id": "ea75ea590d51719b"
  },
  {
   "metadata": {},
   "cell_type": "code",
   "outputs": [],
   "execution_count": null,
   "source": [
    "search_handle = Entrez.esearch(db=\"nucleotide\", term=\"BRCA1[Gene Name] AND Homo sapiens[Organism]\", retmax=20)\n",
    "search_results = Entrez.read(search_handle)\n",
    "id_list = search_results['IdList']\n",
    "print(\"Found IDs:\", id_list)"
   ],
   "id": "c869367f1dad7d40"
  },
  {
   "metadata": {},
   "cell_type": "markdown",
   "source": [
    "## 📥 Step 4: Fetch and Save Records\n",
    "We fetch the GenBank records and save them to a local file to avoid hitting the NCBI server repeatedly."
   ],
   "id": "568324c0349d9d76"
  },
  {
   "metadata": {},
   "cell_type": "code",
   "outputs": [],
   "execution_count": null,
   "source": [
    "if id_list:\n",
    "    ids = \",\".join(id_list)\n",
    "    fetch_handle = Entrez.efetch(db=\"nucleotide\", id=ids, rettype=\"gb\", retmode=\"text\")\n",
    "    with open(\"../data/brca1_records.gb\", \"w\") as out_handle:\n",
    "        out_handle.write(fetch_handle.read())\n",
    "    print(\"Saved fetched records to ../data/brca1_records.gb\")\n",
    "else:\n",
    "    print(\"No records found.\")"
   ],
   "id": "4870d5ea2516526e"
  },
  {
   "metadata": {},
   "cell_type": "markdown",
   "source": [
    "## 📖 Step 5: Read and Inspect Records\n",
    "Use `SeqIO` to parse the saved file and print sequence info."
   ],
   "id": "2246b9ae395f7b76"
  },
  {
   "metadata": {},
   "cell_type": "code",
   "outputs": [],
   "execution_count": null,
   "source": [
    "records = list(SeqIO.parse(\"../data/brca1_records.gb\", \"gb\"))\n",
    "print(f\"Loaded {len(records)} records.\")\n",
    "for rec in records:\n",
    "    print(f\"\\nID: {rec.id}\")\n",
    "    print(f\"Description: {rec.description}\")\n",
    "    print(f\"Length: {len(rec.seq)} bp\")\n",
    "    print(f\"First 100 bases: {rec.seq[:100]}\")"
   ],
   "id": "e6286316023cd0fe"
  }
 ],
 "metadata": {
  "kernelspec": {
   "display_name": "Python 3",
   "language": "python",
   "name": "python3"
  },
  "language_info": {
   "codemirror_mode": {
    "name": "ipython",
    "version": 2
   },
   "file_extension": ".py",
   "mimetype": "text/x-python",
   "name": "python",
   "nbconvert_exporter": "python",
   "pygments_lexer": "ipython2",
   "version": "2.7.6"
  }
 },
 "nbformat": 4,
 "nbformat_minor": 5
}
