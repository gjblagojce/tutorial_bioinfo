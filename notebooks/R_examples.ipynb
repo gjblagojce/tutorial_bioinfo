{
 "cells": [
  {
   "cell_type": "markdown",
   "id": "bd7fbd4b",
   "metadata": {},
   "source": [
    "# R Bioinformatics Notebook"
   ]
  },
  {
   "metadata": {},
   "cell_type": "markdown",
   "source": "## Section 2: Installation (Note: Use in local environments)",
   "id": "b1cb436184f23c49"
  },
  {
   "metadata": {},
   "cell_type": "code",
   "outputs": [],
   "execution_count": null,
   "source": [
    "install.packages(\"BiocManager\")\n",
    "BiocManager::install(c(\"GenomicRanges\", \"Biostrings\", \"DESeq2\",\n",
    "                       \"VariantAnnotation\", \"ComplexHeatmap\"))\n",
    "install.packages(\"ggplot2\")\n"
   ],
   "id": "5d82617d6d5b2cb6"
  },
  {
   "cell_type": "markdown",
   "id": "5fe04ec9",
   "metadata": {},
   "source": [
    "## Section 3: Reading Expression Table"
   ]
  },
  {
   "cell_type": "code",
   "execution_count": null,
   "id": "2d7eb9ef",
   "metadata": {},
   "outputs": [],
   "source": [
    "\n",
    "counts <- read.table(\"../data/rna_counts.txt\", header=TRUE, row.names=1)\n",
    "head(counts)\n"
   ]
  },
  {
   "cell_type": "markdown",
   "id": "dde69673",
   "metadata": {},
   "source": [
    "## Section 5: Differential Expression with DESeq2"
   ]
  },
  {
   "cell_type": "code",
   "execution_count": null,
   "id": "d26cb7a9",
   "metadata": {},
   "outputs": [],
   "source": [
    "\n",
    "library(DESeq2)\n",
    "coldata <- data.frame(condition=c(\"control\", \"control\", \"treated\", \"treated\", \"treated\"))\n",
    "dds <- DESeqDataSetFromMatrix(countData=counts, colData=coldata, design=~condition)\n",
    "dds <- DESeq(dds)\n",
    "res <- results(dds)\n",
    "head(res)\n"
   ]
  },
  {
   "cell_type": "markdown",
   "id": "262a2509",
   "metadata": {},
   "source": [
    "## Section 5: GenomicRanges"
   ]
  },
  {
   "cell_type": "code",
   "execution_count": null,
   "id": "ff4d9072",
   "metadata": {},
   "outputs": [],
   "source": [
    "\n",
    "library(GenomicRanges)\n",
    "bed <- data.frame(seqnames=\"chr1\", start=c(1000, 7000), end=c(5000, 9000), gene=c(\"Gene1\", \"Gene2\"))\n",
    "gr <- GRanges(seqnames=bed$seqnames, ranges=IRanges(bed$start, bed$end))\n",
    "query <- GRanges(\"chr1\", IRanges(4000, 8000))\n",
    "findOverlaps(query, gr)\n"
   ]
  },
  {
   "cell_type": "markdown",
   "id": "9c93007e",
   "metadata": {},
   "source": [
    "## Section 5: VariantAnnotation"
   ]
  },
  {
   "cell_type": "code",
   "execution_count": null,
   "id": "50616d38",
   "metadata": {},
   "outputs": [],
   "source": [
    "\n",
    "library(VariantAnnotation)\n",
    "vcf <- readVcf(\"../data/example.vcf\", genome=\"hg19\")\n",
    "vcf[rowRanges(vcf)$QUAL > 40]\n"
   ]
  },
  {
   "cell_type": "markdown",
   "id": "a916a467",
   "metadata": {},
   "source": [
    "## Section 6: Volcano Plot"
   ]
  },
  {
   "cell_type": "code",
   "execution_count": null,
   "id": "17f5a484",
   "metadata": {},
   "outputs": [],
   "source": [
    "\n",
    "library(ggplot2)\n",
    "df <- as.data.frame(res)\n",
    "ggplot(df, aes(log2FoldChange, -log10(pvalue))) +\n",
    "    geom_point(color=\"blue\") +\n",
    "    theme_minimal()\n"
   ]
  },
  {
   "cell_type": "markdown",
   "id": "bcdf1841",
   "metadata": {},
   "source": [
    "## Section 7: ComplexHeatmap"
   ]
  },
  {
   "cell_type": "code",
   "execution_count": null,
   "id": "c1b2ec61",
   "metadata": {},
   "outputs": [],
   "source": [
    "\n",
    "library(ComplexHeatmap)\n",
    "data <- matrix(rnorm(20), nrow=4)\n",
    "rownames(data) <- paste(\"Gene\", 1:4)\n",
    "colnames(data) <- paste(\"Sample\", 1:5)\n",
    "Heatmap(data)\n"
   ]
  }
 ],
 "metadata": {
  "kernelspec": {
   "display_name": "R",
   "language": "R",
   "name": "ir"
  }
 },
 "nbformat": 4,
 "nbformat_minor": 5
}
